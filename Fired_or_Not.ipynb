{
 "cells": [
  {
   "cell_type": "markdown",
   "metadata": {},
   "source": [
    "#### Brian Huang\n",
    "---"
   ]
  },
  {
   "cell_type": "markdown",
   "metadata": {},
   "source": [
    "# Predict if an Officer is fired or not from News Articles on Recent Shootings\n",
    "---"
   ]
  },
  {
   "cell_type": "markdown",
   "metadata": {},
   "source": [
    "### Loading Packages"
   ]
  },
  {
   "cell_type": "code",
   "execution_count": 1,
   "metadata": {
    "collapsed": true
   },
   "outputs": [],
   "source": [
    "# dataframe\n",
    "import numpy as np\n",
    "import pandas as pd\n",
    "\n",
    "# text analysis and manipulation\n",
    "import urllib2 as ulb\n",
    "import nltk\n",
    "from textblob import TextBlob as tb\n",
    "from textblob.sentiments import NaiveBayesAnalyzer as NBA\n",
    "from bs4 import BeautifulSoup as bfs\n",
    "\n",
    "# Machine Learning packages\n",
    "from sklearn.cross_validation import train_test_split\n",
    "from sklearn.ensemble import RandomForestClassifier, AdaBoostClassifier\n",
    "from sklearn.svm import SVC\n",
    "import sklearn.preprocessing as pps\n",
    "\n",
    "# k-fold validation\n",
    "from sklearn.cross_validation import KFold\n",
    "from sklearn.metrics import f1_score, confusion_matrix\n",
    "\n",
    "# graphing\n",
    "import seaborn as sns\n",
    "import matplotlib.pyplot as plt\n",
    "plt.style.use('ggplot')\n",
    "%matplotlib inline"
   ]
  },
  {
   "cell_type": "markdown",
   "metadata": {},
   "source": [
    "---"
   ]
  },
  {
   "cell_type": "markdown",
   "metadata": {},
   "source": [
    "### Data Loading and Pre-Processing"
   ]
  },
  {
   "cell_type": "code",
   "execution_count": 2,
   "metadata": {
    "collapsed": false
   },
   "outputs": [],
   "source": [
    "#reading in the data set\n",
    "shooting = pd.read_csv(\"./Data/police.csv\")"
   ]
  },
  {
   "cell_type": "code",
   "execution_count": 3,
   "metadata": {
    "collapsed": false
   },
   "outputs": [
    {
     "data": {
      "text/html": [
       "<div>\n",
       "<table border=\"1\" class=\"dataframe\">\n",
       "  <thead>\n",
       "    <tr style=\"text-align: right;\">\n",
       "      <th></th>\n",
       "      <th>Name</th>\n",
       "      <th>Cause of Death</th>\n",
       "      <th>Date of Death</th>\n",
       "      <th>State</th>\n",
       "      <th>City</th>\n",
       "      <th>Gender</th>\n",
       "      <th>Age</th>\n",
       "      <th>Race</th>\n",
       "      <th>Photo</th>\n",
       "      <th>News Story</th>\n",
       "      <th>Month of Death</th>\n",
       "      <th>Year of Death</th>\n",
       "      <th>Was the deceased armed?</th>\n",
       "      <th>Did the deceased have priors?</th>\n",
       "      <th>Was the officer involved fired or suspended?</th>\n",
       "    </tr>\n",
       "  </thead>\n",
       "  <tbody>\n",
       "    <tr>\n",
       "      <th>0</th>\n",
       "      <td>Aaron Alexis</td>\n",
       "      <td>Shooting</td>\n",
       "      <td>16/09/2013</td>\n",
       "      <td>Texas</td>\n",
       "      <td>Fort Worth, Texas</td>\n",
       "      <td>Male</td>\n",
       "      <td>34</td>\n",
       "      <td>Black</td>\n",
       "      <td>http://www.killedbypolice.net/victims/130475.jpg</td>\n",
       "      <td>http://www.washingtonpost.com/politics/aaron-a...</td>\n",
       "      <td>September 2013</td>\n",
       "      <td>2013</td>\n",
       "      <td>Yes</td>\n",
       "      <td>Yes</td>\n",
       "      <td>Unclear</td>\n",
       "    </tr>\n",
       "    <tr>\n",
       "      <th>1</th>\n",
       "      <td>Aaron McDaniels</td>\n",
       "      <td>Shooting</td>\n",
       "      <td>20/08/2013</td>\n",
       "      <td>Pennsylvania</td>\n",
       "      <td>North Philadelphia, Pennsylvania</td>\n",
       "      <td>Male</td>\n",
       "      <td>19</td>\n",
       "      <td>Unknown</td>\n",
       "      <td>NaN</td>\n",
       "      <td>http://www.nbcphiladelphia.com/news/local/Man-...</td>\n",
       "      <td>August 2013</td>\n",
       "      <td>2013</td>\n",
       "      <td>Yes</td>\n",
       "      <td>Yes</td>\n",
       "      <td>Yes</td>\n",
       "    </tr>\n",
       "    <tr>\n",
       "      <th>2</th>\n",
       "      <td>Abdul Kamal</td>\n",
       "      <td>Shooting</td>\n",
       "      <td>11/11/2013</td>\n",
       "      <td>New Jersey</td>\n",
       "      <td>NaN</td>\n",
       "      <td>Male</td>\n",
       "      <td>30</td>\n",
       "      <td>Black</td>\n",
       "      <td>http://www.killedbypolice.net/victims/130638.jpg</td>\n",
       "      <td>http://www.dailyjournal.net/view/story/a4d38b3...</td>\n",
       "      <td>November 2013</td>\n",
       "      <td>2013</td>\n",
       "      <td>Unclear</td>\n",
       "      <td>Unclear</td>\n",
       "      <td>Unclear</td>\n",
       "    </tr>\n",
       "    <tr>\n",
       "      <th>3</th>\n",
       "      <td>Adam Ignatz Bosch</td>\n",
       "      <td>Shooting</td>\n",
       "      <td>07/07/2013</td>\n",
       "      <td>California</td>\n",
       "      <td>NaN</td>\n",
       "      <td>Male</td>\n",
       "      <td>29</td>\n",
       "      <td>White</td>\n",
       "      <td>http://www.killedbypolice.net/victims/130255.jpg</td>\n",
       "      <td>http://www.pe.com/local-news/riverside-county/...</td>\n",
       "      <td>July 2013</td>\n",
       "      <td>2013</td>\n",
       "      <td>Unclear</td>\n",
       "      <td>Unclear</td>\n",
       "      <td>Unclear</td>\n",
       "    </tr>\n",
       "    <tr>\n",
       "      <th>4</th>\n",
       "      <td>Adolfo Ramirez</td>\n",
       "      <td>Shooting</td>\n",
       "      <td>23/11/2013</td>\n",
       "      <td>California</td>\n",
       "      <td>Riverside, California</td>\n",
       "      <td>Male</td>\n",
       "      <td>37</td>\n",
       "      <td>Latino</td>\n",
       "      <td>NaN</td>\n",
       "      <td>http://www.nbclosangeles.com/news/local/Office...</td>\n",
       "      <td>November 2013</td>\n",
       "      <td>2013</td>\n",
       "      <td>Yes</td>\n",
       "      <td>Unclear</td>\n",
       "      <td>Unclear</td>\n",
       "    </tr>\n",
       "  </tbody>\n",
       "</table>\n",
       "</div>"
      ],
      "text/plain": [
       "                Name Cause of Death Date of Death         State  \\\n",
       "0       Aaron Alexis       Shooting    16/09/2013         Texas   \n",
       "1    Aaron McDaniels       Shooting    20/08/2013  Pennsylvania   \n",
       "2        Abdul Kamal       Shooting    11/11/2013    New Jersey   \n",
       "3  Adam Ignatz Bosch       Shooting    07/07/2013    California   \n",
       "4     Adolfo Ramirez       Shooting    23/11/2013    California   \n",
       "\n",
       "                               City Gender  Age     Race  \\\n",
       "0                 Fort Worth, Texas   Male   34    Black   \n",
       "1  North Philadelphia, Pennsylvania   Male   19  Unknown   \n",
       "2                               NaN   Male   30    Black   \n",
       "3                               NaN   Male   29    White   \n",
       "4             Riverside, California   Male   37   Latino   \n",
       "\n",
       "                                              Photo  \\\n",
       "0  http://www.killedbypolice.net/victims/130475.jpg   \n",
       "1                                               NaN   \n",
       "2  http://www.killedbypolice.net/victims/130638.jpg   \n",
       "3  http://www.killedbypolice.net/victims/130255.jpg   \n",
       "4                                               NaN   \n",
       "\n",
       "                                          News Story  Month of Death  \\\n",
       "0  http://www.washingtonpost.com/politics/aaron-a...  September 2013   \n",
       "1  http://www.nbcphiladelphia.com/news/local/Man-...     August 2013   \n",
       "2  http://www.dailyjournal.net/view/story/a4d38b3...   November 2013   \n",
       "3  http://www.pe.com/local-news/riverside-county/...       July 2013   \n",
       "4  http://www.nbclosangeles.com/news/local/Office...   November 2013   \n",
       "\n",
       "   Year of Death Was the deceased armed? Did the deceased have priors?  \\\n",
       "0           2013                     Yes                           Yes   \n",
       "1           2013                     Yes                           Yes   \n",
       "2           2013                 Unclear                       Unclear   \n",
       "3           2013                 Unclear                       Unclear   \n",
       "4           2013                     Yes                       Unclear   \n",
       "\n",
       "  Was the officer involved fired or suspended?  \n",
       "0                                      Unclear  \n",
       "1                                          Yes  \n",
       "2                                      Unclear  \n",
       "3                                      Unclear  \n",
       "4                                      Unclear  "
      ]
     },
     "execution_count": 3,
     "metadata": {},
     "output_type": "execute_result"
    }
   ],
   "source": [
    "#checking to see what data I have\n",
    "shooting.head()"
   ]
  },
  {
   "cell_type": "code",
   "execution_count": 4,
   "metadata": {
    "collapsed": false
   },
   "outputs": [
    {
     "name": "stdout",
     "output_type": "stream",
     "text": [
      "<class 'pandas.core.frame.DataFrame'>\n",
      "Int64Index: 2355 entries, 0 to 2354\n",
      "Data columns (total 15 columns):\n",
      "Name                                            2355 non-null object\n",
      "Cause of Death                                  2355 non-null object\n",
      "Date of Death                                   2355 non-null object\n",
      "State                                           2355 non-null object\n",
      "City                                            2171 non-null object\n",
      "Gender                                          2354 non-null object\n",
      "Age                                             2279 non-null float64\n",
      "Race                                            2353 non-null object\n",
      "Photo                                           1512 non-null object\n",
      "News Story                                      2309 non-null object\n",
      "Month of Death                                  2354 non-null object\n",
      "Year of Death                                   2355 non-null int64\n",
      "Was the deceased armed?                         2268 non-null object\n",
      "Did the deceased have priors?                   2160 non-null object\n",
      "Was the officer involved fired or suspended?    2160 non-null object\n",
      "dtypes: float64(1), int64(1), object(13)\n",
      "memory usage: 294.4+ KB\n"
     ]
    }
   ],
   "source": [
    "shooting.info()"
   ]
  },
  {
   "cell_type": "code",
   "execution_count": 5,
   "metadata": {
    "collapsed": false
   },
   "outputs": [],
   "source": [
    "#renaming the column News Story to News for easier access for future references\n",
    "shooting.rename(columns={'News Story':'News'}, inplace = True)\n",
    "shooting.rename(columns={'Was the officer involved fired or suspended?': 'Fired'}, inplace = True)\n",
    "shooting.rename(columns={'Was the deceased armed?':'Armed'}, inplace = True)\n",
    "shooting.rename(columns={'Did the deceased have priors?':'Priors'}, inplace = True)"
   ]
  },
  {
   "cell_type": "code",
   "execution_count": 6,
   "metadata": {
    "collapsed": false
   },
   "outputs": [],
   "source": [
    "#dropping null values to reduce confusion\n",
    "shooting.dropna(inplace = True)"
   ]
  },
  {
   "cell_type": "code",
   "execution_count": 81,
   "metadata": {
    "collapsed": false
   },
   "outputs": [
    {
     "data": {
      "text/html": [
       "<div>\n",
       "<table border=\"1\" class=\"dataframe\">\n",
       "  <thead>\n",
       "    <tr style=\"text-align: right;\">\n",
       "      <th></th>\n",
       "      <th>Name</th>\n",
       "      <th>Cause of Death</th>\n",
       "      <th>Date of Death</th>\n",
       "      <th>State</th>\n",
       "      <th>City</th>\n",
       "      <th>Gender</th>\n",
       "      <th>Age</th>\n",
       "      <th>Race</th>\n",
       "      <th>Photo</th>\n",
       "      <th>News</th>\n",
       "      <th>Month of Death</th>\n",
       "      <th>Year of Death</th>\n",
       "      <th>Armed</th>\n",
       "      <th>Priors</th>\n",
       "      <th>Fired</th>\n",
       "    </tr>\n",
       "  </thead>\n",
       "  <tbody>\n",
       "    <tr>\n",
       "      <th>0</th>\n",
       "      <td>Aaron Alexis</td>\n",
       "      <td>Shooting</td>\n",
       "      <td>16/09/2013</td>\n",
       "      <td>Texas</td>\n",
       "      <td>Fort Worth, Texas</td>\n",
       "      <td>Male</td>\n",
       "      <td>34</td>\n",
       "      <td>Black</td>\n",
       "      <td>http://www.killedbypolice.net/victims/130475.jpg</td>\n",
       "      <td>http://www.washingtonpost.com/politics/aaron-a...</td>\n",
       "      <td>September 2013</td>\n",
       "      <td>2013</td>\n",
       "      <td>Yes</td>\n",
       "      <td>Yes</td>\n",
       "      <td>Unclear</td>\n",
       "    </tr>\n",
       "    <tr>\n",
       "      <th>6</th>\n",
       "      <td>Adrian Montesano</td>\n",
       "      <td>Shooting</td>\n",
       "      <td>10/12/2013</td>\n",
       "      <td>Florida</td>\n",
       "      <td>Miami-Dade, Florida</td>\n",
       "      <td>Male</td>\n",
       "      <td>27</td>\n",
       "      <td>Latino</td>\n",
       "      <td>http://www.killedbypolice.net/victims/130722.jpg</td>\n",
       "      <td>http://www.miamiherald.com/2013/12/10/3809575/...</td>\n",
       "      <td>December 2013</td>\n",
       "      <td>2013</td>\n",
       "      <td>Yes</td>\n",
       "      <td>Yes</td>\n",
       "      <td>Unclear</td>\n",
       "    </tr>\n",
       "    <tr>\n",
       "      <th>8</th>\n",
       "      <td>Ajani Mitchell</td>\n",
       "      <td>Shooting</td>\n",
       "      <td>25/05/2013</td>\n",
       "      <td>South Carolina</td>\n",
       "      <td>Columbia, South Carolina</td>\n",
       "      <td>Male</td>\n",
       "      <td>21</td>\n",
       "      <td>Black</td>\n",
       "      <td>http://www.killedbypolice.net/victims/130085.jpg</td>\n",
       "      <td>http://www.wistv.com/story/22424504/man-killed...</td>\n",
       "      <td>May 2013</td>\n",
       "      <td>2013</td>\n",
       "      <td>Yes</td>\n",
       "      <td>Unclear</td>\n",
       "      <td>Unclear</td>\n",
       "    </tr>\n",
       "    <tr>\n",
       "      <th>10</th>\n",
       "      <td>Albert Manuel Vasquez</td>\n",
       "      <td>Shooting</td>\n",
       "      <td>28/11/2013</td>\n",
       "      <td>California</td>\n",
       "      <td>San Jose, California</td>\n",
       "      <td>Male</td>\n",
       "      <td>42</td>\n",
       "      <td>Latino</td>\n",
       "      <td>http://www.killedbypolice.net/victims/130690.jpg</td>\n",
       "      <td>http://www.mercurynews.com/crime-courts/ci_246...</td>\n",
       "      <td>November 2013</td>\n",
       "      <td>2013</td>\n",
       "      <td>Unclear</td>\n",
       "      <td>Unclear</td>\n",
       "      <td>Yes</td>\n",
       "    </tr>\n",
       "    <tr>\n",
       "      <th>14</th>\n",
       "      <td>Alexander Jamar Marion</td>\n",
       "      <td>Shooting</td>\n",
       "      <td>29/09/2013</td>\n",
       "      <td>North Carolina</td>\n",
       "      <td>Asheville, North Carolina</td>\n",
       "      <td>Male</td>\n",
       "      <td>19</td>\n",
       "      <td>Black</td>\n",
       "      <td>http://www.killedbypolice.net/victims/130508.jpg</td>\n",
       "      <td>http://www.citizen-times.com/article/20130929/...</td>\n",
       "      <td>September 2013</td>\n",
       "      <td>2013</td>\n",
       "      <td>Yes</td>\n",
       "      <td>Unclear</td>\n",
       "      <td>Unclear</td>\n",
       "    </tr>\n",
       "  </tbody>\n",
       "</table>\n",
       "</div>"
      ],
      "text/plain": [
       "                      Name Cause of Death Date of Death           State  \\\n",
       "0             Aaron Alexis       Shooting    16/09/2013           Texas   \n",
       "6         Adrian Montesano       Shooting    10/12/2013         Florida   \n",
       "8           Ajani Mitchell       Shooting    25/05/2013  South Carolina   \n",
       "10   Albert Manuel Vasquez       Shooting    28/11/2013      California   \n",
       "14  Alexander Jamar Marion       Shooting    29/09/2013  North Carolina   \n",
       "\n",
       "                         City Gender  Age    Race  \\\n",
       "0           Fort Worth, Texas   Male   34   Black   \n",
       "6         Miami-Dade, Florida   Male   27  Latino   \n",
       "8    Columbia, South Carolina   Male   21   Black   \n",
       "10       San Jose, California   Male   42  Latino   \n",
       "14  Asheville, North Carolina   Male   19   Black   \n",
       "\n",
       "                                               Photo  \\\n",
       "0   http://www.killedbypolice.net/victims/130475.jpg   \n",
       "6   http://www.killedbypolice.net/victims/130722.jpg   \n",
       "8   http://www.killedbypolice.net/victims/130085.jpg   \n",
       "10  http://www.killedbypolice.net/victims/130690.jpg   \n",
       "14  http://www.killedbypolice.net/victims/130508.jpg   \n",
       "\n",
       "                                                 News  Month of Death  \\\n",
       "0   http://www.washingtonpost.com/politics/aaron-a...  September 2013   \n",
       "6   http://www.miamiherald.com/2013/12/10/3809575/...   December 2013   \n",
       "8   http://www.wistv.com/story/22424504/man-killed...        May 2013   \n",
       "10  http://www.mercurynews.com/crime-courts/ci_246...   November 2013   \n",
       "14  http://www.citizen-times.com/article/20130929/...  September 2013   \n",
       "\n",
       "    Year of Death    Armed   Priors    Fired  \n",
       "0            2013      Yes      Yes  Unclear  \n",
       "6            2013      Yes      Yes  Unclear  \n",
       "8            2013      Yes  Unclear  Unclear  \n",
       "10           2013  Unclear  Unclear      Yes  \n",
       "14           2013      Yes  Unclear  Unclear  "
      ]
     },
     "execution_count": 81,
     "metadata": {},
     "output_type": "execute_result"
    }
   ],
   "source": [
    "#Checking my current data\n",
    "shooting.head()"
   ]
  },
  {
   "cell_type": "code",
   "execution_count": 82,
   "metadata": {
    "collapsed": false
   },
   "outputs": [
    {
     "name": "stdout",
     "output_type": "stream",
     "text": [
      "<class 'pandas.core.frame.DataFrame'>\n",
      "Int64Index: 1333 entries, 0 to 2353\n",
      "Data columns (total 15 columns):\n",
      "Name              1333 non-null object\n",
      "Cause of Death    1333 non-null object\n",
      "Date of Death     1333 non-null object\n",
      "State             1333 non-null object\n",
      "City              1333 non-null object\n",
      "Gender            1333 non-null object\n",
      "Age               1333 non-null float64\n",
      "Race              1333 non-null object\n",
      "Photo             1333 non-null object\n",
      "News              1333 non-null object\n",
      "Month of Death    1333 non-null object\n",
      "Year of Death     1333 non-null int64\n",
      "Armed             1333 non-null object\n",
      "Priors            1333 non-null object\n",
      "Fired             1333 non-null object\n",
      "dtypes: float64(1), int64(1), object(13)\n",
      "memory usage: 166.6+ KB\n"
     ]
    }
   ],
   "source": [
    "shooting.info()"
   ]
  },
  {
   "cell_type": "code",
   "execution_count": 83,
   "metadata": {
    "collapsed": false
   },
   "outputs": [],
   "source": [
    "#obtaining all URLs for news articles so I can access them later\n",
    "urls = [item for item in shooting.News]"
   ]
  },
  {
   "cell_type": "markdown",
   "metadata": {},
   "source": [
    "---"
   ]
  },
  {
   "cell_type": "markdown",
   "metadata": {},
   "source": [
    "### My Little Web Scrapper!"
   ]
  },
  {
   "cell_type": "code",
   "execution_count": 106,
   "metadata": {
    "collapsed": true
   },
   "outputs": [
    {
     "name": "stdout",
     "output_type": "stream",
     "text": [
      "http://www.wistv.com/story/22424504/man-killed-by-police-after-returning-to-mothers-home-with-weapon -- generated response error\n",
      "http://www.foxcarolina.com/story/23689681/shooting-reported-in-anderson-county -- generated response error\n",
      "http://www.okcfox.com/story/24316925/police-off-duty-ohp-officer-shoots-intruder -- generated response error\n",
      "http://archive.thv11.com/(X(1)A(SlTUQo8OzQEkAAAAMDE0MDdiN2UtNDBlMC00ZjQwLTkxMWEtMmYwNDRiNDRkMWE2jqBWVN2S1ECjhPUK4T-4xLsbIiI1))/news/article/270495/2/Man-in-officer-involved-shooting-was-Brandon-Rennie-Turner---a-sex-offender-wanted-for-robberies-attempted-murder -- generated response error\n",
      "http://www.wwaytv3.com/2013/10/13/man-wanted-for-shooting-deputy-killed -- generated response error\n",
      "http://www.todaystmj4.com/news/local/207993631.html -- generated response error\n",
      "http://www.wthr.com/story/23090138/2013/08/09/police-action-shooting-on-southside -- generated response error\n",
      "http://newsok.com/okc-police-waiting-to-release-name-of-victim-killed-in-thursday-night-shooting/article/3861572 -- generated response error\n",
      "http://www.newswest9.com/story/23547666/howard-county-deputy-involved-in-officer-involved-shooting -- generated response error\n",
      "http://www.wabi.tv/news/40811/man-fatally-shot-by-officer-in-hampden -- generated response error\n",
      "http://www.wsfa.com/story/23701100/abi-responds-to-officer-involved-shootingin-eufaula -- generated response error\n",
      "http://www.katv.com/story/22970689/update-suspect-dead-after-police-chase-officer-involved-shooting-on-i-30 -- generated response error\n",
      "http://newsok.com/man-dies-after-police-family-try-to-subdue-him/article/3805618 -- generated response error\n",
      "http://www.myfoxboston.com/story/22752767/man-dies-after-police-involved-shooting-wednesday -- generated response error\n",
      "http://www.ktul.com/story/22543148/one-killed-in-officer-involved-shooting-in-okfuskee-county -- generated response error\n",
      "http://www.nytimes.com/2013/05/19/nyregion/suspect-in-hofstra-home-invasion-had-extensive-criminal-record.html?_r=0 -- generated response error\n",
      "http://www.kltv.com/story/23394802/authorities-release-identity-of-man-killed-in-officer-involved-shooting -- generated response error\n",
      "http://www.theeastsiderla.com/2013/05/echo-park-man-shot-by-police-dies/ -- generated response error\n",
      "http://www.myfoxdfw.com/story/22503959/highland-park-police-shoot-kill-motorcyclist -- generated response error\n",
      "http://lancasteronline.com/article/local/934340_Police-shoot-and-kill-22-year-old-in-man-s-Lititz-home.html -- generated response error\n",
      "http://www.wncn.com/story/23457514/police-respond-to-man-with-gun-in-downtown-durham -- generated response error\n",
      "http://www.startribune.com/local/west/220801251.html -- generated response error\n",
      "http://newsok.com/former-oklahoma-county-sheriffs-lieutenant-charged-with-manslaughter-in-inmates-death/article/4901856 -- generated response error\n",
      "http://www.theindychannel.com/news/local-news/person-shot-after-police-respond-to-burglary-call -- generated response error\n",
      "http://www.wafb.com/story/27810613/9news-investigators-video-of-final-moments-of-inmates-life-prompts-questions-from-victims-family -- generated response error\n",
      "http://www.brownwoodtx.com/news/community/article_8c1b0a12-c678-11e2-94f8-001a4bcf887a.html -- generated response error\n",
      "http://www.myarklamiss.com/story/suspect-killed-in-shooting-hostages-hospitalized-with-gunshot-wounds/d/story/MYqR_rr-gkq856x6rflv2A -- generated response error\n",
      "http://www.wafb.com/story/22726842/man-dies-after-tased-by-deputies -- generated response error\n",
      "http://www.newsherald.com/news/crime-public-safety/update-slaying-suspect-killed-in-shootout-1.169050 -- generated response error\n",
      "http://lancasteronline.com/article/local/859735_Lancaster-police-shoot--kill-homeless-man-on-North-Queen-Street.html -- generated response error\n",
      "http://www.wmctv.com/story/23799573/suspect-in-deadly-shooting-with-deputies-identified -- generated response error\n",
      "http://www.abc-7.com/story/23763963/one-dead-in-officer-involved-shooting-in-north-port -- generated response error\n",
      "http://www.wbtv.com/story/22623749/officials-investigating-shooting-in-northeast-charlotte -- generated response error\n",
      "http://www.firstcoastnews.com/news/article/333408/3/Officer-involved-shooting-suspect-dead- -- generated response error\n",
      "http://www.post-gazette.com/local/region/2013/12/08/Suspect-in-child-abduction-shot-by-police/stories/201312080193 -- generated response error\n",
      "http://www.waff.com/story/24113045/grand-jury-to-decide-case-in-jailer-involved-shooting -- generated response error\n",
      "http://www.theindychannel.com/news/local-news/impd-suspect-dies-while-being-arrested -- generated response error\n",
      "http://www.cbsatlanta.com/story/24317007/cobb-pd-investigating-a-fatal-officer-involved-shooting -- generated response error\n",
      "http://www.wxow.com/story/23618036/2013/10/05/officer-involved-shooting -- generated response error\n",
      "http://www.pressherald.com/news/Police_are_on_the_scene_of_a_standoff_in_Hollis_.html -- generated response error\n",
      "http://www.ktre.com/story/22613862/nacogdoches-man-killed-in -- generated response error\n",
      "http://www.qcitymetro.com/news/articles/victim_of_police_shooting_may_have_been_seeking_help01441798.cfm -- generated response error\n",
      "http://www.wset.com/story/24006538/update-expecting-more-information-soon-about-lu-dorm-shooting -- generated response error\n",
      "http://www.kpho.com/story/22650419/suspect-dies-wounded-officer-ok-after-glendale-shootout -- generated response error\n",
      "http://www.news9.com/story/22645109/police-release-name-of-victim-officer-involved-in-ne-okc-shooting -- generated response error\n",
      "http://www.selmatimesjournal.com/2013/06/03/three-killed-in-reported-murder-suicide/ -- generated response error\n",
      "http://www.kltv.com/story/23067032/nacogdoches-co-sherriff -- generated response error\n",
      "http://evanstonnow.com/story/public-safety/bill-smith/2013-12-16/60381/police-shoot-bank-robbery-suspect-downtown -- generated response error\n",
      "https://www.chillicothegazette.com/article/20131212/NEWS01/312120009/Officer-s-errant-shot-struck-woman-head -- generated response error\n",
      "http://www.myfoxphilly.com/story/22454699/police-involved-in-7th-shooting-in-7-days -- generated response error\n",
      "http://www.wsav.com/story/22795016/police-involved-shooting-leaves-man-dead -- generated response error\n",
      "http://www.kpho.com/story/24022599/police-kill-man-in-apparent-suicide-by-cop -- generated response error\n",
      "http://www.loganbanner.com/news/home_top-news/2326574/Preliminary-report-shows-inmate-suffered-jail-beating -- generated response error\n",
      "http://www.wfla.com/story/22753870/man-shot-by-fayetteville-police-in-may-dies -- generated response error\n",
      "http://www.dailyrepublic.com/news/crimecourts/deputy-man-shot-killed-by-fairfield-police-after-he-shot-at-officers/ -- generated response error\n",
      "http://www.qcitymetro.com/news/articles/swat_officer_kills_suspect_during_standoff06420321.cfm -- generated response error\n",
      "http://www.thedenverchannel.com/news/local-news/man-running-from-fruita-police-dies-during-an-officer-involved-shooting-saturday-morning -- generated response error\n",
      "http://www.wggb.com/2013/05/15/shots-fired-on-albemarle-street/ -- generated response error\n",
      "http://www.kpho.com/story/22813827/phoenix-officers-shoot-kill-man-who-wields-handgun -- generated response error\n",
      "http://www.news9.com/story/24292220/osbi-custer-county-deputies-shoot-kill-suspect -- generated response error\n",
      "http://www.plumasnews.com/index.php?option=com_content&view=article&id=11716%3Aofficer-shoots-patient-at-portola-hospital-after-violent-encounter&catid=69%3A-headline-news&Itemid=6 -- generated response error\n",
      "http://ktar.com/22/1688035/Phoenix-bank-robber-dead-after-shootout -- generated response error\n",
      "http://blogs.seattletimes.com/today/2013/08/metro-bus-driver-shot-in-downtown-seattle/ -- generated response error\n",
      "http://www.tucsonnewsnow.com/story/24023475/1-dead-in-officer-involved-shooting-on-sw-side -- generated response error\n",
      "http://www.staradvertiser.com/news/breaking/20130817_Kauai_police_shoot_kill_Kalaheo_man.html -- generated response error\n",
      "http://www.kpho.com/story/24288446/suspect-killed-in-shootout-with-pinal-deputy -- generated response error\n",
      "http://www.kpho.com/story/23178374/family-questions-polices-actions-after-sons-death -- generated response error\n",
      "http://www.vcstar.com/news/2013/sep/06/person-shot-and-killed-by-port-hueneme-police/ -- generated response error\n",
      "http://www.kiiitv.com/story/24310334/police-chief-provides-new-details-in-fatal-officer-involved-shooting -- generated response error\n",
      "http://www.newson6.com/story/23311792/off-duty-trooper-shoots-kills-man-at-tulsa-hotel -- generated response error\n",
      "http://www.wmctv.com/story/23864303/release-regarding-police-fatally-shooting-woman -- generated response error\n",
      "http://www.wfaa.com/news/texas-news/Injured-theft-suspect-fatally-shot-while-trying-to-escape-from-hospital-212745381.html -- generated response error\n",
      "http://newsok.com/man-dies-in-oklahoma-city-police-custody/article/3868964 -- generated response error\n",
      "http://www.myvalleynews.com/story/74801/ -- generated response error\n",
      "http://www.19actionnews.com/story/23621638/man-dies-after-arrest-by-cleveland-police -- generated response error\n",
      "http://www.wabi.tv/news/42586/ags-office-man-killed-after-confrontation-with-police-in-grindstone -- generated response error\n",
      "http://www.post-gazette.com/stories/local/neighborhoods-north/man-shot-to-death-in-sewickley-694786/ -- generated response error\n",
      "http://www.myvalleynews.com/story/72972/ -- generated response error\n",
      "http://panews.com/local/x134995890/Woman-with-knife-killed-by-PA-officer-at-scene-of-disturbance -- generated response error\n",
      "http://www.copblock.org/35904/buckner-police-officer-indicted-in-residents-death/ -- generated response error\n",
      "http://www.startribune.com/local/east/220699271.html -- generated response error\n",
      "http://www.news-sentinel.com/apps/pbcs.dll/article?AID=%2F20130503%2FNEWS%2F130509871 -- generated response error\n",
      "http://www.news10.net/news/article/243690/2/Officer-involved-shooting-investigated-in-Suisun-City -- generated response error\n",
      "http://www.myfoxdfw.com/story/23858431/man-popinting-taser-at-officers-shot-and-killed -- generated response error\n",
      "http://www.newson6.com/story/22614088/police-shoot-kill-man-allegedly-threatening-child-in-midwest-city -- generated response error\n",
      "http://www.post-gazette.com/stories/local/region/standoff-in-latrobe-continues-696058/ -- generated response error\n",
      "http://www.foxcarolina.com/story/24278010/police-shoplifting-suspect-shot-and-killed-in-anderson -- generated response error\n",
      "http://www.news9.com/story/24088461/police-investigate-officer-involved-shooting-shut-down-portion-of-i-35 -- generated response error\n",
      "http://www.bigcountryhomepage.com/story/albany-man-dead-after-officer-involved-shooting/d/story/0EIFnQX-m0iQyO3DpyJ4rQ -- generated response error\n",
      "http://www.hawaiinewsnow.com/story/22505435/suspected-car-thief-dies-after-arrest-in-waimanalo -- generated response error\n",
      "http://lancasteronline.com/article/local/882525_Man-shot-by-police-near-Manheim-dies-during-emergency-surgery.html -- generated response error\n",
      "http://www.startribune.com/local/west/232161451.html -- generated response error\n",
      "http://newsok.com/oklahoma-highway-patrol-releases-names-in-tulsa-officer-involved-shooting/article/3885871 -- generated response error\n",
      "http://www.firstcoastnews.com/topstories/article/336014/483/Police-involved-shooting-kills-one -- generated response error\n",
      "http://www.wlox.com/story/23252325/new-charge-for-barthelemy-in-procell-kidnapping-murder -- generated response error\n",
      "http://www.browncountyindiana.com/index.php?id=15024 -- generated response error\n",
      "http://www.kctv5.com/story/22490203/officers-return-fire-man-criticially-injured-police-say -- generated response error\n",
      "http://www.wgrz.com/news/article/213582/1/Off-Duty-Police-Officer-Shoots-Alleged-Intruder -- generated response error\n",
      "http://www.wggb.com/2013/08/11/developing-2-injured-in-officer-involved-shooting-on-i-91s/ -- generated response error\n",
      "http://www.10news.com/news/probe-into-fatal-officer-involved-shooting-in-escondido-bomb-squad-detonates-explosive-devices-060613 -- generated response error\n",
      "http://www.wcpo.com/news/local-news/brown-county/zachary-goldson-case-argument-over-brown-county-inmates-death-goes-to-grand-jury -- generated response error\n",
      "http://www.startribune.com/local/210983591.html -- generated response error\n",
      "http://www.wect.com/story/24561098/breaking-news-officer-involved-shooting-suspect-down -- generated response error\n",
      "http://www.wect.com/story/24367610/officer-involved-shooting-reported-in-boiling-spring-lakes -- generated response error\n",
      "http://www.newson6.com/story/24735856/family-says-moore-police-beat-father-to-death -- generated response error\n",
      "http://www.kpho.com/story/24653868/glendale-officer-shoots-kills-wanted-fugitive -- generated response error\n",
      "http://www.khq.com/story/25084883/breaking-shots-fired-at-police-situation-in-north-spokane -- generated response error\n",
      "http://www.news9.com/story/25049163/nw-okc-man-dies-in-officer-involved-shooting -- generated response error\n",
      "http://www.news9.com/story/24987893/osbi-investigates-deadly-officer-involved-shooting-in-lawton -- generated response error\n",
      "http://www.rawstory.com/rs/2014/03/10/pennsylvania-trooper-fatally-shoots-pregnant-wife-in-the-head-while-cleaning-his-gun/ -- generated response error\n",
      "http://www.alexcityoutlook.com/2014/03/08/alexander-city-man-dead-after-being-shot-by-police-at-huddle-house/ -- generated response error\n",
      "http://www.kpho.com/story/24874138/pd-2-officers-shot-in-phoenix -- generated response error\n",
      "http://www.wsmv.com/story/25379137/a-life-cut-short-family-friends-mourn-amber-smith -- generated response error\n",
      "http://www.natchezdemocrat.com/2014/04/25/man-dies-after-stun-gun-shock-state-agency-inspecting-acso-traffic-stop-death/ -- generated response error\n",
      "http://www.kpho.com/story/25321962/suspect-wounded-in-deputy-involved-shooting-in-goodyear -- generated response error\n",
      "http://www.ktre.com/story/25319182/nacogdoches-c-sheriffs-office-confirms-officer-involved-shooting -- generated response error\n",
      "http://www.nbc-2.com/story/25301973/questions-remain-regarding-incidents-at-cci -- generated response error\n",
      "http://www.kcbd.com/story/25292262/lubbock-police-on-scene-of-officer-involved-shooting -- generated response error\n",
      "http://www.12newsnow.com/story/26251863/family-seeks-answers-after-police-release-unconscious-man-who-died-moments-later -- generated response error\n",
      "http://www.wthr.com/story/25655412/2014/05/30/friends-say-suspect-was-fearful-before-friday-morning-shooting -- generated response error\n",
      "http://www.kfvs12.com/story/25604969/1-dead-in-officer-involved-shooting-in-butler-county -- generated response error\n",
      "http://wjcl.com/2014/05/22/one-death-in-officer-involved-shooting/ -- generated response error\n",
      "http://www.tucsonnewsnow.com/story/25585064/tpd-investigating-officer-involved-shooting-in-midtown -- generated response error\n",
      "http://www.newson6.com/story/25573807/man-dead-in-tulsa-police-officer-involved-shooting -- generated response error\n",
      "http://www.myfoxorlando.com/story/25573648/orlando-police-shoot-and-kill-carjacking-suspect -- generated response error\n",
      "http://www.msnewsnow.com/story/25435949/coach-dies-after-altercation-with-hinds-co-deputies?clienttype=generic&mobilecgbypass&utm_content=buffer8b414&utm_medium=social&utm_source=twitter.com&utm_campaign=buffer -- generated response error\n",
      "http://www.ksla.com/story/25422732/shreveport-police-confirm-man-who-fought-officers-has-died?clienttype=generic&mobilecgbypass&utm_content=buffer598c5&utm_medium=social&utm_source=twitter.com&utm_campaign=buffer -- generated response error\n",
      "http://www.newswest9.com/story/25893410/man-shot-and-killed-by-off-duty-police-officer-in-la-bodega-restaurant-in-midland -- generated response error\n",
      "http://www.kxnet.com/story/25840453/dickinson-man-shot-and-killed-by-officers-after-high-speed-chase -- generated response error\n",
      "http://newsok.com/shooting-reported-in-northwest-oklahoma-city/article/4894106 -- generated response error\n",
      "http://www.oilcitywyo.com/2014/07/30/federal-officer-reportedly-involved-in-fatal-shooting-on-wind-river-indian-reservation/ -- generated response error\n",
      "http://www.lasvegassun.com/news/2014/jul/29/home-invasion-leads-police-shooting-2-taken-hospit/ -- generated response error\n",
      "http://www.wmbfnews.com/story/26135343/officer-involved-shooting-at-florence-gas-station -- generated response error\n",
      "http://www.kltv.com/story/26124228/deputy-involved-in-fatal-cass-county-shooting -- generated response error\n",
      "http://www.counton2.com/story/26082460/charleston-county-deputies-to-investigate-officer-involved-shooting -- generated response error\n",
      "http://www.kpho.com/story/26015394/naked-az-army-vet-shot-dead-by-mcso-commander -- generated response error\n",
      "http://www.wect.com/story/26004023/former-brunswick-co-sheriff-ron-hewett-dies-in-custody -- generated response error\n",
      "http://www.timesrecordnews.com/news/2014/jul/13/second_officer-involved_shooting/ -- generated response error\n",
      "http://www.alternet.org/horrifying-video-shows-two-officers-shooting-mentally-ill-pregnant-woman -- generated response error\n",
      "http://www.news9.com/story/25946073/police-investigating-officer-involved-shooting-in-cleveland-county -- generated response error\n",
      "http://www.wdam.com/story/26415195/marion-county-man-shot-saturday -- generated response error\n",
      "http://www.startribune.com/local/north/273092801.html -- generated response error\n",
      "http://www.texarkanagazette.com/news/2014/08/11/man-fatally-shot-in-dekalb-after-alleged-261897.php -- generated response error\n",
      "http://www.kltv.com/story/26232506/suspect-in-officer-involved-shooting-dies-at-longview-hospital -- generated response error\n",
      "http://www.hawaiinewsnow.com/story/26211824/breaking-suspected-car-thief-killed-in-officer-involved-shooting-in-pearl-city-details-on-kgmb-and-hawaiinewsnowcom?utm_source=feedburner&utm_medium=feed&utm_campaign=Feed%3A+HawaiiNewsNow-News+%28Hawaii+News+No -- generated response error\n",
      "http://www.newson6.com/story/26209978/two-tulsa-police-officers-arrested-after-fatal-shooting -- generated response error\n",
      "http://www.pressherald.com/2014/08/03/maine-state-police-trooper-shoots-man-in-lagrange-standoff/ -- generated response error\n",
      "http://ktar.com/22/1755615/1-dead-in-Phx-officerinvolved-shooting- -- generated response error\n",
      "http://www.wsvn.com/story/26665732/police-involved-shooting-at-sunrise-drugstore -- generated response error\n",
      "http://www.pressherald.com/2014/09/27/maine-state-police-shoot-kill-knife-wielding-man/ -- generated response error\n",
      "http://www.macon.com/2014/09/25/3326364_gbi-investigating-laurens-deputy.html?&rh=1 -- generated response error\n",
      "http://www.wfla.com/story/26587294/armed-homosassa-woman-shot-dead-by-citrus-co-deputy -- generated response error\n",
      "http://www.wtoc.com/story/26567695/gbi-investigating-after-1-man-killed-in-officer-involved-shooting -- generated response error\n",
      "http://www.kentucky.com/2014/09/13/3428049_man-assaults-lexington-officer.html?rh=1 -- generated response error\n",
      "http://www.live5news.com/story/26498407/charleston-co-sheriff-suspected-shooter-died-after-deputies-returned-fire -- generated response error\n",
      "http://www.wsvn.com/story/26470635/man-killed-in-police-involved-shooting-in-wilton-manors -- generated response error\n",
      "http://www.hawaiinewsnow.com/story/26466205/exclusive-honolulu-police-officer-hits-and-kills-man-in-wheelchair -- generated response error\n",
      "http://newsok.com/oklahoma-city-detectives-investigate-fatal-shooting-of-woman-by-officer/article/5338484 -- generated response error\n",
      "http://www.wsmv.com/story/26424240/phoenix-police-shoot-kill-heavily-armed-man -- generated response error\n",
      "http://newsok.com/man-dies-after-officer-involved-shooting-chase-in-sw-oklahoma-city/article/5361977 -- generated response error\n",
      "http://www.wdrb.com/story/27147618/metrosafe-lmpd-on-scene-of-officer-involved-shooting-in-southwest-louisville -- generated response error\n",
      "http://www.wsvn.com/story/27025232/1-dead-in-hialeah-police-involved-shooting -- generated response error\n",
      "http://www.wmcactionnews5.com/story/26821428/southaven-shooting-injures-one-police-investigate -- generated response error\n",
      "http://www.pressherald.com/2014/10/12/state-trooper-shoots-kills-aroostook-county-man/ -- generated response error\n",
      "http://www.startribune.com/local/278772231.html -- generated response error\n",
      "http://www.lasvegassun.com/news/2014/oct/07/1-dead-officer-involved-shooting-north-las-vegas/ -- generated response error\n",
      "http://www.wave3.com/story/26688229/woman-shot-by-police-at-conclusion-of-standoff-dies-identity-released -- generated response error\n",
      "http://www.msnewsnow.com/story/27504542/officer-involved-shooting-in-pearl-leaves-one-man-dead -- generated response error\n",
      "http://www.bradenton.com/2014/11/23/5493102_bradenton-firefighter-shot.html?sp=%2F99%2F100%2F&rh=1 -- generated response error\n",
      "http://www.ksla.com/story/27444459/shooting-on-centenary-college-campus-suspect-killed -- generated response error\n",
      "http://www.wtvq.com/story/d/story/fatal-officer-involved-shooting-in-shelby-county/18084/2SQ2Bv1IREW9PyU1vhA0-A -- generated response error\n",
      "http://www.kptv.com/story/27427957/da-releases-info-on-suspect-in-linfield-college-student-slaying -- generated response error\n",
      "http://www.msnewsnow.com/story/27361430/suspect-shot-killed-by-police-officer-in-jacksonville -- generated response error\n",
      "http://www.tucsonnewsnow.com/story/27187359/bicyclist-fatally-struck-by-police-officer-in-unmarked-vehicle -- generated response error\n",
      "http://newsok.com/officer-involved-shooting-reported-in-northwest-oklahoma-city/article/5372084 -- generated response error\n",
      "http://www.kpho.com/story/27531512/phoenix-police-at-officer-involved-shooting -- generated response error\n",
      "http://www.wncn.com/story/27530139/man-dies-after-being-shot-with-stun-gun-by-deputies -- generated response error\n",
      "http://www.kten.com/story/27551869/suspect-shot-and-killed-outside-choctaw-casino-in-grant-okla -- generated response error\n",
      "http://www.wistv.com/story/27561714/sled-investigating-officer-involved-shooting-in-camden -- generated response error\n",
      "http://www.alternet.org/news-amp-politics/kevin-davis-called-cops-help-out-friend-trouble-and-was-shot-death-police-his -- generated response error\n",
      "http://www.wowktv.com/story/27741437/a-domestic-violence-call-turns-into-fatal-officer-involved-shooting-in-carter-county-ky -- generated response error\n",
      "http://www.19actionnews.com/story/27709268/bedford-resident-shot-and-killed-during-confrontation-with-police -- generated response error\n",
      "http://timesofsandiego.com/crime/2014/12/24/man-dies-tasered-fight-border-patrol/ -- generated response error\n",
      "http://www.kpho.com/story/27660383/pd-phoenix-officer-involved-in-shooting -- generated response error\n",
      "http://www.newswest9.com/story/27661517/midland-police-officers-wife-declared-dead -- generated response error\n",
      "http://www.wthr.com/story/27658447/police-pursuit-standoff-shuts-down-state-road-67-at-owen-morgan-county-line -- generated response error\n",
      "http://www.msnewsnow.com/story/27625936/madison-coroner-called-to-hwy-51-for-officer-involved-shooting -- generated response error\n",
      "http://www.kfvs12.com/story/27616169/authorities-investigating-stabbing-officer-involved-shooting-in-poplar-bluff -- generated response error\n",
      "http://www.wncn.com/story/27598792/1-dead-in-sanford-officer-involved-shooting -- generated response error\n",
      "http://www.wsfa.com/story/28177937/1-dead-4-in-custody-after-millbrook-house-burglary -- generated response error\n",
      "http://www.wmcactionnews5.com/story/28076932/police-investigate-reports-of-shooting-in-whitehaven -- generated response error\n",
      "http://www.walb.com/story/28014993/man-woman-injured-in-douglas-officer-involved-shooting -- generated response error\n",
      "http://www.news9.com/story/28291336/fatal-officer-involved-shooting-in-sw-okc -- generated response error\n",
      "http://www.kvoa.com/story/28871705/officials-investigating-fatal-officer-involved-shooting-in-bisbee -- generated response error\n",
      "http://www.kait8.com/story/28805959/sword-wielding-man-dead-after-officer-involved-shooting-in-jonesboro -- generated response error\n",
      "http://www.news9.com/story/28233777/man-dies-after-being-tasered-by-okc-police-during-assault-officer-says -- generated response error\n",
      "http://www.wect.com/story/28546766/one-dead-after-officer-involved-shooting-in-bladen-county -- generated response error\n",
      "http://www.wtvm.com/story/28755231/officers-on-scene-of-valdosta-shooting -- generated response error\n",
      "http://www.newson6.com/story/28706756/tulsa-county-investigates-deputy-involved-shooting -- generated response error\n",
      "http://www.ktre.com/story/28544196/law-enforcement-confirms-officer-involved-shooting-at-gas-station-in-onalaska -- generated response error\n",
      "http://www.alexcityoutlook.com/2015/02/11/190293/ -- generated response error\n",
      "http://www.fox5vegas.com/story/28196978/suspect-dead-in-officer-involved-shooting -- generated response error\n",
      "http://www.wggb.com/2015/01/01/longmeadow-man-dead-after-being-struck-by-chatham-police-cruiser/ -- generated response error\n",
      "http://www.news9.com/story/28195051/okc-police-driver-who-attempted-to-strike-officers-shot-and-killed -- generated response error\n",
      "http://www.newsherald.com/news/crime-public-safety/man-dies-after-officer-involved-shooting-on-beck-avenue-1.466560?tc=cr -- generated response error\n",
      "http://www.lex18.com/story/27867821/pedestrian-dies-after-police-cruiser-hits-him-in-lincoln-county -- generated response error\n",
      "http://www.wbtv.com/story/28053955/deadly-officer-involved-shooting-investigation-in-gastonia -- generated response error\n",
      "http://www.newson6.com/story/28582219/tulsa-patrol-officer-strikes-kills-pedestrian-crossing-south-lewis -- generated response error\n",
      "http://www.wafb.com/story/28385884/coroner-reports-jamie-croom-accused-of-killing-us-marshal-has-died -- generated response error\n",
      "http://www.bellinghamherald.com/2015/03/19/4195332_one-killed-in-shooting-near-sumas.html?rh=1 -- generated response error\n",
      "http://www.lex18.com/story/28601132/whitley-county-man-dies-during-struggle-with-police#.VRGvvx_8PcI.facebook -- generated response error\n",
      "http://www.kulr8.com/story/27988700/developing-shooting-reported-at-billings-clinic -- generated response error\n",
      "http://www.wsmv.com/story/28940658/police-investigating-shooting-in-south-nashville -- generated response error\n",
      "http://www.kfvs12.com/story/28915534/1-dead-after-standoff-in-marion -- generated response error\n",
      "http://www.news9.com/story/28012083/guthrie-teen-shot-by-ohp-trooper-dies-from-his-injuries -- generated response error\n",
      "http://www.news-journal.com/news/police/longview-officers-fatally-shoot-woman-who-threatened-them-at-station/article_8688d7d8-a29e-11e4-b7c9-d7ce5c9ad4b6.html -- generated response error\n",
      "http://www.fox4news.com/story/28058762/montague-county-sheriffs-deputy-shot -- generated response error\n",
      "http://www.wmcactionnews5.com/story/28023546/fugitive-shot-by-law-enforcement-near-nutbush -- generated response error\n",
      "http://wjcl.com/2015/01/02/inmate-dies-in-custody-after-injuring-multiple-deputies/ -- generated response error\n",
      "http://www.cbs46.com/story/28611922/details-emerge-in-deadly-cobb-county-police-shooting -- generated response error\n",
      "http://www.whdh.com/story/27882091/two-dead-in-overnight-shooting-in-weymouth -- generated response error\n",
      "http://www.ktvu.com/story/28087930/san-jose-police-investigating-officer-involved-shooting -- generated response error\n",
      "http://www.ktul.com/story/27975570/officer-involved-shooting-in-stillwater -- generated response error\n",
      "http://www.startribune.com/local/west/289870171.html -- generated response error\n",
      "http://www.natomasbuzz.com/2015/03/suspect-in-chp-officer-shotting-surrounded-in-natomas/ -- generated response error\n",
      "http://www.newson6.com/story/27872568/officers-respond-to-downtown-tulsa-shooting -- generated response error\n",
      "http://www.hawaiinewsnow.com/story/28546370/combative-man-dies-following-arrest-near-iolani-palace -- generated response error\n",
      "http://www.newson6.com/story/27876891/officer-involved-shooting-reported-in-muskogee -- generated response error\n",
      "http://www.19actionnews.com/story/28382544/possible-taser-death-under-investigation-in-mansfield -- generated response error\n",
      "http://www.19actionnews.com/story/28380324/one-dead-after-officer-involved-shooting-in-cleveland -- generated response error\n",
      "http://www.wjtv.com/story/28525308/deputy-involved-shooting-in-pike-county -- generated response error\n",
      "http://www.newson6.com/story/28578606/ohp-shots-fired-in-chase-with-suspect-vehicle-in-coal-county -- generated response error\n",
      "http://www.gastongazette.com/spotlight/police-veteran-fired-at-officers-before-fatal-shooting-1.451831 -- generated response error\n",
      "http://www.ktvu.com/story/28015839/woman-shot-in-emeryville-officer-involved-shooting -- generated response error\n"
     ]
    }
   ],
   "source": [
    "'''Courtesy to Lee for helping me with Try Except\n",
    "making all my dreams possible'''\n",
    "\n",
    "\n",
    "#initialize a data structure to store all the headlines\n",
    "headlines = {}\n",
    "#looping through urls and get headlines\n",
    "for i, url in enumerate(urls):\n",
    "    #sending requet\n",
    "    req = ulb.Request(url)\n",
    "    #open the url\n",
    "    try:\n",
    "        response = ulb.urlopen(req)\n",
    "    except:\n",
    "        print '{} -- generated response error'.format(url)\n",
    "    #reading in the contents in HTML\n",
    "    article = response.read()\n",
    "    #make it into beautifulsoup object\n",
    "    soup = bfs(article)\n",
    "    #grabbing headlines and store it into the data structure\n",
    "    if soup.title is None:\n",
    "        continue\n",
    "    else:\n",
    "        headlines[i] = soup.title.text"
   ]
  },
  {
   "cell_type": "code",
   "execution_count": 107,
   "metadata": {
    "collapsed": false
   },
   "outputs": [
    {
     "data": {
      "text/plain": [
       "1086"
      ]
     },
     "execution_count": 107,
     "metadata": {},
     "output_type": "execute_result"
    }
   ],
   "source": [
    "# checking data length\n",
    "len(headlines)"
   ]
  },
  {
   "cell_type": "code",
   "execution_count": 130,
   "metadata": {
    "collapsed": false
   },
   "outputs": [],
   "source": [
    "#adding the headlines into dataframe\n",
    "shooting['headlines'] = pd.Series(headlines)"
   ]
  },
  {
   "cell_type": "code",
   "execution_count": 136,
   "metadata": {
    "collapsed": true
   },
   "outputs": [],
   "source": [
    "#dropping null values again\n",
    "shooting.dropna(inplace = True)"
   ]
  },
  {
   "cell_type": "code",
   "execution_count": 81,
   "metadata": {
    "collapsed": false
   },
   "outputs": [],
   "source": [
    "#saving the dataset as a new csv file to avoid re-running the web scrapper\n",
    "shooting.to_csv(\"Data/new_police.csv\", encoding='utf-8')"
   ]
  },
  {
   "cell_type": "markdown",
   "metadata": {},
   "source": [
    "---"
   ]
  },
  {
   "cell_type": "markdown",
   "metadata": {},
   "source": [
    "### EDA and Engineering"
   ]
  },
  {
   "cell_type": "code",
   "execution_count": 13,
   "metadata": {
    "collapsed": false
   },
   "outputs": [],
   "source": [
    "# New Data set (processed)\n",
    "new_shooting = pd.read_csv(\"./data/new_police.csv\")"
   ]
  },
  {
   "cell_type": "code",
   "execution_count": 14,
   "metadata": {
    "collapsed": false
   },
   "outputs": [
    {
     "data": {
      "text/plain": [
       "569"
      ]
     },
     "execution_count": 14,
     "metadata": {},
     "output_type": "execute_result"
    }
   ],
   "source": [
    "len(new_shooting)"
   ]
  },
  {
   "cell_type": "code",
   "execution_count": 10,
   "metadata": {
    "collapsed": true
   },
   "outputs": [],
   "source": [
    "new_shooting_less = new_shooting[new_shooting['Fired'] != 'Unclear']"
   ]
  },
  {
   "cell_type": "code",
   "execution_count": 11,
   "metadata": {
    "collapsed": false
   },
   "outputs": [
    {
     "data": {
      "text/plain": [
       "210"
      ]
     },
     "execution_count": 11,
     "metadata": {},
     "output_type": "execute_result"
    }
   ],
   "source": [
    "len(new_shooting_less)"
   ]
  },
  {
   "cell_type": "code",
   "execution_count": 12,
   "metadata": {
    "collapsed": false
   },
   "outputs": [
    {
     "data": {
      "text/html": [
       "<div>\n",
       "<table border=\"1\" class=\"dataframe\">\n",
       "  <thead>\n",
       "    <tr style=\"text-align: right;\">\n",
       "      <th></th>\n",
       "      <th>Unnamed: 0</th>\n",
       "      <th>Name</th>\n",
       "      <th>Cause of Death</th>\n",
       "      <th>Date of Death</th>\n",
       "      <th>State</th>\n",
       "      <th>City</th>\n",
       "      <th>Gender</th>\n",
       "      <th>Age</th>\n",
       "      <th>Race</th>\n",
       "      <th>Photo</th>\n",
       "      <th>News</th>\n",
       "      <th>Month of Death</th>\n",
       "      <th>Year of Death</th>\n",
       "      <th>Armed</th>\n",
       "      <th>Priors</th>\n",
       "      <th>Fired</th>\n",
       "      <th>headlines</th>\n",
       "    </tr>\n",
       "  </thead>\n",
       "  <tbody>\n",
       "    <tr>\n",
       "      <th>7</th>\n",
       "      <td>23</td>\n",
       "      <td>Andrea Naharro-Gionet</td>\n",
       "      <td>Shooting</td>\n",
       "      <td>16/11/2013</td>\n",
       "      <td>California</td>\n",
       "      <td>San Jose, California</td>\n",
       "      <td>Female</td>\n",
       "      <td>61</td>\n",
       "      <td>Native American</td>\n",
       "      <td>http://www.killedbypolice.net/victims/130649.jpg</td>\n",
       "      <td>http://www.mercurynews.com/crime-courts/ci_245...</td>\n",
       "      <td>November 2013</td>\n",
       "      <td>2013</td>\n",
       "      <td>Yes</td>\n",
       "      <td>Unclear</td>\n",
       "      <td>Yes</td>\n",
       "      <td>Off-duty deputy shoots, kills alleged robber; ...</td>\n",
       "    </tr>\n",
       "    <tr>\n",
       "      <th>8</th>\n",
       "      <td>24</td>\n",
       "      <td>Andrea Rebello</td>\n",
       "      <td>Shooting</td>\n",
       "      <td>18/05/2013</td>\n",
       "      <td>New York</td>\n",
       "      <td>Mineola, New York</td>\n",
       "      <td>Female</td>\n",
       "      <td>21</td>\n",
       "      <td>White</td>\n",
       "      <td>http://www.killedbypolice.net/victims/130056.jpg</td>\n",
       "      <td>http://www.businessinsider.com/andrea-rebello-...</td>\n",
       "      <td>May 2013</td>\n",
       "      <td>2013</td>\n",
       "      <td>No</td>\n",
       "      <td>Yes</td>\n",
       "      <td>Yes</td>\n",
       "      <td>Torrance police shoot, kill man suspected of a...</td>\n",
       "    </tr>\n",
       "    <tr>\n",
       "      <th>12</th>\n",
       "      <td>30</td>\n",
       "      <td>Andrew Scott Hoffman</td>\n",
       "      <td>Shooting</td>\n",
       "      <td>27/10/2013</td>\n",
       "      <td>Maryland</td>\n",
       "      <td>Baltimore, Maryland</td>\n",
       "      <td>Male</td>\n",
       "      <td>27</td>\n",
       "      <td>White</td>\n",
       "      <td>http://www.killedbypolice.net/victims/130598.jpg</td>\n",
       "      <td>http://www.baltimoresun.com/news/maryland/anne...</td>\n",
       "      <td>October 2013</td>\n",
       "      <td>2013</td>\n",
       "      <td>No</td>\n",
       "      <td>No</td>\n",
       "      <td>No</td>\n",
       "      <td>Claims Of Road Rage Between Off-Duty Officer &amp;...</td>\n",
       "    </tr>\n",
       "    <tr>\n",
       "      <th>14</th>\n",
       "      <td>32</td>\n",
       "      <td>Andrew Thomas</td>\n",
       "      <td>Shooting</td>\n",
       "      <td>18/07/2013</td>\n",
       "      <td>Florida</td>\n",
       "      <td>Miramar, Florida</td>\n",
       "      <td>Male</td>\n",
       "      <td>23</td>\n",
       "      <td>Black</td>\n",
       "      <td>http://www.killedbypolice.net/victims/130285.jpg</td>\n",
       "      <td>http://www.nbcmiami.com/news/local/Suspect-Dea...</td>\n",
       "      <td>July 2013</td>\n",
       "      <td>2013</td>\n",
       "      <td>Yes</td>\n",
       "      <td>Yes</td>\n",
       "      <td>Yes</td>\n",
       "      <td>Sheriff: 'Career criminal' killed by deputy af...</td>\n",
       "    </tr>\n",
       "    <tr>\n",
       "      <th>16</th>\n",
       "      <td>34</td>\n",
       "      <td>Andy Snider</td>\n",
       "      <td>Shooting</td>\n",
       "      <td>09/12/2013</td>\n",
       "      <td>New Mexico</td>\n",
       "      <td>Albuquerque, New Mexico</td>\n",
       "      <td>Male</td>\n",
       "      <td>37</td>\n",
       "      <td>White</td>\n",
       "      <td>http://www.killedbypolice.net/victims/130719.jpg</td>\n",
       "      <td>http://krqe.com/2015/04/08/lawsuit-filed-in-po...</td>\n",
       "      <td>December 2013</td>\n",
       "      <td>2013</td>\n",
       "      <td>Yes</td>\n",
       "      <td>Unclear</td>\n",
       "      <td>No</td>\n",
       "      <td>Saratoga: Man shot and killed after attacking ...</td>\n",
       "    </tr>\n",
       "  </tbody>\n",
       "</table>\n",
       "</div>"
      ],
      "text/plain": [
       "    Unnamed: 0                   Name Cause of Death Date of Death  \\\n",
       "7           23  Andrea Naharro-Gionet       Shooting    16/11/2013   \n",
       "8           24         Andrea Rebello       Shooting    18/05/2013   \n",
       "12          30   Andrew Scott Hoffman       Shooting    27/10/2013   \n",
       "14          32          Andrew Thomas       Shooting    18/07/2013   \n",
       "16          34            Andy Snider       Shooting    09/12/2013   \n",
       "\n",
       "         State                     City  Gender  Age             Race  \\\n",
       "7   California     San Jose, California  Female   61  Native American   \n",
       "8     New York        Mineola, New York  Female   21            White   \n",
       "12    Maryland      Baltimore, Maryland    Male   27            White   \n",
       "14     Florida         Miramar, Florida    Male   23            Black   \n",
       "16  New Mexico  Albuquerque, New Mexico    Male   37            White   \n",
       "\n",
       "                                               Photo  \\\n",
       "7   http://www.killedbypolice.net/victims/130649.jpg   \n",
       "8   http://www.killedbypolice.net/victims/130056.jpg   \n",
       "12  http://www.killedbypolice.net/victims/130598.jpg   \n",
       "14  http://www.killedbypolice.net/victims/130285.jpg   \n",
       "16  http://www.killedbypolice.net/victims/130719.jpg   \n",
       "\n",
       "                                                 News Month of Death  \\\n",
       "7   http://www.mercurynews.com/crime-courts/ci_245...  November 2013   \n",
       "8   http://www.businessinsider.com/andrea-rebello-...       May 2013   \n",
       "12  http://www.baltimoresun.com/news/maryland/anne...   October 2013   \n",
       "14  http://www.nbcmiami.com/news/local/Suspect-Dea...      July 2013   \n",
       "16  http://krqe.com/2015/04/08/lawsuit-filed-in-po...  December 2013   \n",
       "\n",
       "    Year of Death Armed   Priors Fired  \\\n",
       "7            2013   Yes  Unclear   Yes   \n",
       "8            2013    No      Yes   Yes   \n",
       "12           2013    No       No    No   \n",
       "14           2013   Yes      Yes   Yes   \n",
       "16           2013   Yes  Unclear    No   \n",
       "\n",
       "                                            headlines  \n",
       "7   Off-duty deputy shoots, kills alleged robber; ...  \n",
       "8   Torrance police shoot, kill man suspected of a...  \n",
       "12  Claims Of Road Rage Between Off-Duty Officer &...  \n",
       "14  Sheriff: 'Career criminal' killed by deputy af...  \n",
       "16  Saratoga: Man shot and killed after attacking ...  "
      ]
     },
     "execution_count": 12,
     "metadata": {},
     "output_type": "execute_result"
    }
   ],
   "source": [
    "new_shooting_less.head()"
   ]
  },
  {
   "cell_type": "code",
   "execution_count": 188,
   "metadata": {
    "collapsed": false
   },
   "outputs": [
    {
     "name": "stdout",
     "output_type": "stream",
     "text": [
      "<class 'pandas.core.frame.DataFrame'>\n",
      "Int64Index: 569 entries, 0 to 568\n",
      "Data columns (total 17 columns):\n",
      "Unnamed: 0        569 non-null int64\n",
      "Name              569 non-null object\n",
      "Cause of Death    569 non-null object\n",
      "Date of Death     569 non-null object\n",
      "State             569 non-null object\n",
      "City              569 non-null object\n",
      "Gender            569 non-null object\n",
      "Age               569 non-null float64\n",
      "Race              569 non-null object\n",
      "Photo             569 non-null object\n",
      "News              569 non-null object\n",
      "Month of Death    569 non-null object\n",
      "Year of Death     569 non-null int64\n",
      "Armed             569 non-null object\n",
      "Priors            569 non-null object\n",
      "Fired             569 non-null object\n",
      "headlines         569 non-null object\n",
      "dtypes: float64(1), int64(2), object(14)\n",
      "memory usage: 80.0+ KB\n"
     ]
    }
   ],
   "source": [
    "new_shooting.info()"
   ]
  },
  {
   "cell_type": "code",
   "execution_count": 189,
   "metadata": {
    "collapsed": false
   },
   "outputs": [
    {
     "data": {
      "image/png": "[encoded data removed]",
      "text/plain": [
       "<matplotlib.figure.Figure at 0x10d277090>"
      ]
     },
     "metadata": {},
     "output_type": "display_data"
    }
   ],
   "source": [
    "# Producing a plot to check labels\n",
    "\n",
    "#Checking how many police are fired\n",
    "plt.title(\"Count of Police being released from duty\");\n",
    "sns.barplot('Fired', data = new_shooting, palette='winter');"
   ]
  },
  {
   "cell_type": "code",
   "execution_count": 190,
   "metadata": {
    "collapsed": false
   },
   "outputs": [
    {
     "data": {
      "image/png": "[encoded data removed]",
      "text/plain": [
       "<matplotlib.figure.Figure at 0x10f991550>"
      ]
     },
     "metadata": {},
     "output_type": "display_data"
    }
   ],
   "source": [
    "# Police being fired given the suspect is armed\n",
    "sns.factorplot('Fired', data = new_shooting, hue = 'Armed',size = 6);\n",
    "sns.plt.title(\"Counts of Fired Police given suspect was armed\");"
   ]
  },
  {
   "cell_type": "code",
   "execution_count": 191,
   "metadata": {
    "collapsed": false
   },
   "outputs": [
    {
     "data": {
      "image/png": "[encoded data removed]",
      "text/plain": [
       "<matplotlib.figure.Figure at 0x10b548b50>"
      ]
     },
     "metadata": {},
     "output_type": "display_data"
    }
   ],
   "source": [
    "# Police being fired given the suspect has Priors\n",
    "sns.factorplot('Fired', data = new_shooting, hue = 'Priors', size = 6, palette='spring');\n",
    "sns.plt.title(\"Counts of Fired Police given suspect has Prirors\");"
   ]
  },
  {
   "cell_type": "code",
   "execution_count": 192,
   "metadata": {
    "collapsed": false
   },
   "outputs": [
    {
     "data": {
      "text/plain": [
       "Male      527\n",
       "Female     42\n",
       "dtype: int64"
      ]
     },
     "execution_count": 192,
     "metadata": {},
     "output_type": "execute_result"
    }
   ],
   "source": [
    "# Gender representation\n",
    "new_shooting['Gender'].value_counts()"
   ]
  },
  {
   "cell_type": "code",
   "execution_count": 193,
   "metadata": {
    "collapsed": false
   },
   "outputs": [
    {
     "data": {
      "image/png": "[encoded data removed]",
      "text/plain": [
       "<matplotlib.figure.Figure at 0x10cdd9e50>"
      ]
     },
     "metadata": {},
     "output_type": "display_data"
    }
   ],
   "source": [
    "# Age representation\n",
    "plt.figure(figsize=(10, 5));\n",
    "plt.hist(new_shooting['Age'], bins = 50, color='y');\n",
    "plt.title(\"Age Distribution\");"
   ]
  },
  {
   "cell_type": "code",
   "execution_count": 194,
   "metadata": {
    "collapsed": false
   },
   "outputs": [
    {
     "data": {
      "image/png": "[encoded data removed]",
      "text/plain": [
       "<matplotlib.figure.Figure at 0x10e9d2f10>"
      ]
     },
     "metadata": {},
     "output_type": "display_data"
    }
   ],
   "source": [
    "#creating a grid with dataframe\n",
    "fig = sns.FacetGrid(new_shooting, hue='Gender', aspect=4);\n",
    "fig.map(sns.kdeplot, 'Age', shade = True);\n",
    "\n",
    "#set oldest to max age\n",
    "oldest = new_shooting['Age'].max();\n",
    "\n",
    "#setting x limits\n",
    "fig.set(xlim=(0,oldest));\n",
    "\n",
    "#adding legends\n",
    "fig.add_legend();\n",
    "\n",
    "sns.plt.title(\"Gender Density\");"
   ]
  },
  {
   "cell_type": "code",
   "execution_count": 195,
   "metadata": {
    "collapsed": false
   },
   "outputs": [
    {
     "data": {
      "text/plain": [
       "White              275\n",
       "Black              174\n",
       "Latino              76\n",
       "Unknown             34\n",
       "Native American      4\n",
       "Asian                3\n",
       "Other                3\n",
       "dtype: float64"
      ]
     },
     "execution_count": 195,
     "metadata": {},
     "output_type": "execute_result"
    }
   ],
   "source": [
    "normalize = pps.Normalizer()\n",
    "race = new_shooting.Race.value_counts().astype(float)\n",
    "race"
   ]
  },
  {
   "cell_type": "code",
   "execution_count": 196,
   "metadata": {
    "collapsed": false
   },
   "outputs": [
    {
     "data": {
      "text/html": [
       "<div>\n",
       "<table border=\"1\" class=\"dataframe\">\n",
       "  <thead>\n",
       "    <tr style=\"text-align: right;\">\n",
       "      <th></th>\n",
       "      <th>White</th>\n",
       "      <th>Black</th>\n",
       "      <th>Latino</th>\n",
       "      <th>Unknown</th>\n",
       "      <th>Native_American</th>\n",
       "      <th>Asian</th>\n",
       "      <th>Other</th>\n",
       "    </tr>\n",
       "  </thead>\n",
       "  <tbody>\n",
       "    <tr>\n",
       "      <th>0</th>\n",
       "      <td>0.818558</td>\n",
       "      <td>0.517924</td>\n",
       "      <td>0.22622</td>\n",
       "      <td>0.101203</td>\n",
       "      <td>0.011906</td>\n",
       "      <td>0.00893</td>\n",
       "      <td>0.00893</td>\n",
       "    </tr>\n",
       "  </tbody>\n",
       "</table>\n",
       "</div>"
      ],
      "text/plain": [
       "      White     Black   Latino   Unknown  Native_American    Asian    Other\n",
       "0  0.818558  0.517924  0.22622  0.101203         0.011906  0.00893  0.00893"
      ]
     },
     "execution_count": 196,
     "metadata": {},
     "output_type": "execute_result"
    }
   ],
   "source": [
    "norm_race = normalize.fit_transform(race)\n",
    "norm_race_df = pd.DataFrame(norm_race, columns=['White','Black','Latino','Unknown','Native_American','Asian','Other'])\n",
    "norm_race_df"
   ]
  },
  {
   "cell_type": "code",
   "execution_count": 197,
   "metadata": {
    "collapsed": false
   },
   "outputs": [
    {
     "data": {
      "image/png": "[encoded data removed]",
      "text/plain": [
       "<matplotlib.figure.Figure at 0x10d277650>"
      ]
     },
     "metadata": {},
     "output_type": "display_data"
    }
   ],
   "source": [
    "# pie chart for number of race\n",
    "sns.heatmap(norm_race_df);\n",
    "sns.plt.Figure(figsize=(20,10));\n",
    "sns.plt.title(\"Normalized Victim by Race\");"
   ]
  },
  {
   "cell_type": "code",
   "execution_count": 198,
   "metadata": {
    "collapsed": false
   },
   "outputs": [
    {
     "data": {
      "image/png": "[encoded data removed]",
      "text/plain": [
       "<matplotlib.figure.Figure at 0x10ddf90d0>"
      ]
     },
     "metadata": {},
     "output_type": "display_data"
    }
   ],
   "source": [
    "sns.plt.figure(figsize = (20,5));\n",
    "sns.barplot(new_shooting['Month of Death'], \n",
    "            palette = 'autumn');\n",
    "sns.plt.title(\"Deaths by Month\");"
   ]
  },
  {
   "cell_type": "code",
   "execution_count": 199,
   "metadata": {
    "collapsed": false
   },
   "outputs": [],
   "source": [
    "# Creating a normalizer object\n",
    "normalize = pps.Normalizer()\n",
    "# converting state count into floats for normalization\n",
    "state = new_shooting.State.value_counts().astype(float)"
   ]
  },
  {
   "cell_type": "code",
   "execution_count": 200,
   "metadata": {
    "collapsed": false
   },
   "outputs": [],
   "source": [
    "# getting the col names\n",
    "col = list(state.index)"
   ]
  },
  {
   "cell_type": "code",
   "execution_count": 201,
   "metadata": {
    "collapsed": false
   },
   "outputs": [
    {
     "data": {
      "text/html": [
       "<div>\n",
       "<table border=\"1\" class=\"dataframe\">\n",
       "  <thead>\n",
       "    <tr style=\"text-align: right;\">\n",
       "      <th></th>\n",
       "      <th>California</th>\n",
       "      <th>Texas</th>\n",
       "      <th>Florida</th>\n",
       "      <th>Pennsylvania</th>\n",
       "      <th>North Carolina</th>\n",
       "      <th>Ohio</th>\n",
       "      <th>New York</th>\n",
       "      <th>Arizona</th>\n",
       "      <th>Colorado</th>\n",
       "      <th>Illinois</th>\n",
       "      <th>...</th>\n",
       "      <th>District of Columbia</th>\n",
       "      <th>Nebraska</th>\n",
       "      <th>New Hampshire</th>\n",
       "      <th>Maine</th>\n",
       "      <th>Idaho</th>\n",
       "      <th>Rhode Island</th>\n",
       "      <th>Alaska</th>\n",
       "      <th>South Dakota</th>\n",
       "      <th>North Dakota</th>\n",
       "      <th>Vermont</th>\n",
       "    </tr>\n",
       "  </thead>\n",
       "  <tbody>\n",
       "    <tr>\n",
       "      <th>0</th>\n",
       "      <td>0.636941</td>\n",
       "      <td>0.419632</td>\n",
       "      <td>0.389658</td>\n",
       "      <td>0.187336</td>\n",
       "      <td>0.172349</td>\n",
       "      <td>0.164855</td>\n",
       "      <td>0.149868</td>\n",
       "      <td>0.142375</td>\n",
       "      <td>0.104908</td>\n",
       "      <td>0.104908</td>\n",
       "      <td>...</td>\n",
       "      <td>0.014987</td>\n",
       "      <td>0.014987</td>\n",
       "      <td>0.014987</td>\n",
       "      <td>0.014987</td>\n",
       "      <td>0.007493</td>\n",
       "      <td>0.007493</td>\n",
       "      <td>0.007493</td>\n",
       "      <td>0.007493</td>\n",
       "      <td>0.007493</td>\n",
       "      <td>0.007493</td>\n",
       "    </tr>\n",
       "  </tbody>\n",
       "</table>\n",
       "<p>1 rows × 51 columns</p>\n",
       "</div>"
      ],
      "text/plain": [
       "   California     Texas   Florida  Pennsylvania  North Carolina      Ohio  \\\n",
       "0    0.636941  0.419632  0.389658      0.187336        0.172349  0.164855   \n",
       "\n",
       "   New York   Arizona  Colorado  Illinois    ...     District of Columbia  \\\n",
       "0  0.149868  0.142375  0.104908  0.104908    ...                 0.014987   \n",
       "\n",
       "   Nebraska  New Hampshire     Maine     Idaho  Rhode Island    Alaska  \\\n",
       "0  0.014987       0.014987  0.014987  0.007493      0.007493  0.007493   \n",
       "\n",
       "   South Dakota  North Dakota   Vermont  \n",
       "0      0.007493      0.007493  0.007493  \n",
       "\n",
       "[1 rows x 51 columns]"
      ]
     },
     "execution_count": 201,
     "metadata": {},
     "output_type": "execute_result"
    }
   ],
   "source": [
    "# normalizing the state count\n",
    "norm_state = normalize.fit_transform(state)\n",
    "# making it into a dataframe\n",
    "norm_state_df = pd.DataFrame(norm_state, columns=col)\n",
    "# checking it\n",
    "norm_state_df"
   ]
  },
  {
   "cell_type": "code",
   "execution_count": 202,
   "metadata": {
    "collapsed": false
   },
   "outputs": [
    {
     "data": {
      "image/png": "[encoded data removed]",
      "text/plain": [
       "<matplotlib.figure.Figure at 0x10e9d2590>"
      ]
     },
     "metadata": {},
     "output_type": "display_data"
    }
   ],
   "source": [
    "# plotting normalized kill by state\n",
    "norm_state_df.plot(kind = 'bar', title = \"Police Shooting by States\", figsize = (10,15));"
   ]
  },
  {
   "cell_type": "code",
   "execution_count": 203,
   "metadata": {
    "collapsed": false
   },
   "outputs": [],
   "source": [
    "# make data frame into a list for traversing\n",
    "headline_list = new_shooting.headlines.tolist()"
   ]
  },
  {
   "cell_type": "code",
   "execution_count": 204,
   "metadata": {
    "collapsed": true
   },
   "outputs": [
    {
     "name": "stdout",
     "output_type": "stream",
     "text": [
      "error at:  12\n",
      "error at:  19\n",
      "error at:  35\n",
      "error at:  38\n",
      "error at:  41\n",
      "error at:  67\n",
      "error at:  79\n",
      "error at:  86\n",
      "error at:  88\n",
      "error at:  130\n",
      "error at:  173\n",
      "error at:  178\n",
      "error at:  186\n",
      "error at:  205\n",
      "error at:  211\n",
      "error at:  212\n",
      "error at:  222\n",
      "error at:  231\n",
      "error at:  244\n",
      "error at:  275\n",
      "error at:  308\n",
      "error at:  361\n",
      "error at:  385\n",
      "error at:  395\n",
      "error at:  410\n",
      "error at:  432\n",
      "error at:  496\n",
      "error at:  515\n",
      "error at:  534\n",
      "error at:  555\n",
      "error at:  556\n"
     ]
    }
   ],
   "source": [
    "# creating objects to store objectivity and polarity\n",
    "obj = {}\n",
    "polarity = {}\n",
    "# looping through my headlines\n",
    "for i, item in enumerate(headline_list):\n",
    "    # creating my textblob for sentiment analysis\n",
    "    test = tb(item)\n",
    "    # try except to catch error\n",
    "    try:\n",
    "        # if no error, I store the objectivity and polarity\n",
    "        # values to obj and polarity\n",
    "        obj[i] = test.sentiment[1]\n",
    "        polarity[i] = test.sentiment[0]\n",
    "    # else...\n",
    "    except:\n",
    "        # I look at the indices where my errors occured\n",
    "        print \"error at: \", i"
   ]
  },
  {
   "cell_type": "markdown",
   "metadata": {},
   "source": [
    "#### Key: polarity is a float within the range [-1.0, 1.0] and subjectivity is a float within the range [0.0, 1.0] where 0.0 is very objective and 1.0 is very subjective."
   ]
  },
  {
   "cell_type": "code",
   "execution_count": 205,
   "metadata": {
    "collapsed": false
   },
   "outputs": [],
   "source": [
    "# adding objectivity and polarity to the data frame for analysis\n",
    "new_shooting['Objectivity'] = pd.Series(obj)\n",
    "new_shooting['Polarity'] = pd.Series(polarity)"
   ]
  },
  {
   "cell_type": "code",
   "execution_count": 206,
   "metadata": {
    "collapsed": false
   },
   "outputs": [],
   "source": [
    "# now, dropping the columns I don't need\n",
    "new_shooting.drop('Photo', axis = 1, inplace = True)\n",
    "new_shooting.drop('Year of Death', axis = 1, inplace = True)\n",
    "new_shooting.drop('News', axis = 1, inplace = True)\n",
    "new_shooting.drop('Name', axis = 1, inplace = True)\n",
    "new_shooting.drop('Cause of Death', axis = 1, inplace = True)\n",
    "new_shooting.drop('Date of Death', axis = 1, inplace = True)\n",
    "new_shooting.drop('City', axis = 1, inplace = True)\n",
    "new_shooting.drop('Month of Death', axis = 1, inplace = True)\n",
    "new_shooting.drop('headlines', axis = 1, inplace = True)"
   ]
  },
  {
   "cell_type": "code",
   "execution_count": 207,
   "metadata": {
    "collapsed": false
   },
   "outputs": [
    {
     "data": {
      "text/html": [
       "<div>\n",
       "<table border=\"1\" class=\"dataframe\">\n",
       "  <thead>\n",
       "    <tr style=\"text-align: right;\">\n",
       "      <th></th>\n",
       "      <th>State</th>\n",
       "      <th>Gender</th>\n",
       "      <th>Age</th>\n",
       "      <th>Race</th>\n",
       "      <th>Armed</th>\n",
       "      <th>Priors</th>\n",
       "      <th>Fired</th>\n",
       "      <th>Objectivity</th>\n",
       "      <th>Polarity</th>\n",
       "    </tr>\n",
       "  </thead>\n",
       "  <tbody>\n",
       "    <tr>\n",
       "      <th>0</th>\n",
       "      <td>Texas</td>\n",
       "      <td>Male</td>\n",
       "      <td>34</td>\n",
       "      <td>Black</td>\n",
       "      <td>Yes</td>\n",
       "      <td>Yes</td>\n",
       "      <td>Unclear</td>\n",
       "      <td>0.4</td>\n",
       "      <td>-0.2</td>\n",
       "    </tr>\n",
       "    <tr>\n",
       "      <th>1</th>\n",
       "      <td>Florida</td>\n",
       "      <td>Male</td>\n",
       "      <td>27</td>\n",
       "      <td>Latino</td>\n",
       "      <td>Yes</td>\n",
       "      <td>Yes</td>\n",
       "      <td>Unclear</td>\n",
       "      <td>0.0</td>\n",
       "      <td>0.0</td>\n",
       "    </tr>\n",
       "    <tr>\n",
       "      <th>2</th>\n",
       "      <td>South Carolina</td>\n",
       "      <td>Male</td>\n",
       "      <td>21</td>\n",
       "      <td>Black</td>\n",
       "      <td>Yes</td>\n",
       "      <td>Unclear</td>\n",
       "      <td>Unclear</td>\n",
       "      <td>0.4</td>\n",
       "      <td>-0.2</td>\n",
       "    </tr>\n",
       "    <tr>\n",
       "      <th>3</th>\n",
       "      <td>North Carolina</td>\n",
       "      <td>Male</td>\n",
       "      <td>19</td>\n",
       "      <td>Black</td>\n",
       "      <td>Yes</td>\n",
       "      <td>Unclear</td>\n",
       "      <td>Unclear</td>\n",
       "      <td>0.0</td>\n",
       "      <td>-0.2</td>\n",
       "    </tr>\n",
       "    <tr>\n",
       "      <th>4</th>\n",
       "      <td>Idaho</td>\n",
       "      <td>Male</td>\n",
       "      <td>26</td>\n",
       "      <td>White</td>\n",
       "      <td>Unclear</td>\n",
       "      <td>Unclear</td>\n",
       "      <td>Unclear</td>\n",
       "      <td>0.4</td>\n",
       "      <td>-0.2</td>\n",
       "    </tr>\n",
       "  </tbody>\n",
       "</table>\n",
       "</div>"
      ],
      "text/plain": [
       "            State Gender  Age    Race    Armed   Priors    Fired  Objectivity  \\\n",
       "0           Texas   Male   34   Black      Yes      Yes  Unclear          0.4   \n",
       "1         Florida   Male   27  Latino      Yes      Yes  Unclear          0.0   \n",
       "2  South Carolina   Male   21   Black      Yes  Unclear  Unclear          0.4   \n",
       "3  North Carolina   Male   19   Black      Yes  Unclear  Unclear          0.0   \n",
       "4           Idaho   Male   26   White  Unclear  Unclear  Unclear          0.4   \n",
       "\n",
       "   Polarity  \n",
       "0      -0.2  \n",
       "1       0.0  \n",
       "2      -0.2  \n",
       "3      -0.2  \n",
       "4      -0.2  "
      ]
     },
     "execution_count": 207,
     "metadata": {},
     "output_type": "execute_result"
    }
   ],
   "source": [
    "new_shooting.head()"
   ]
  },
  {
   "cell_type": "code",
   "execution_count": 174,
   "metadata": {
    "collapsed": false
   },
   "outputs": [
    {
     "data": {
      "text/plain": [
       "569"
      ]
     },
     "execution_count": 174,
     "metadata": {},
     "output_type": "execute_result"
    }
   ],
   "source": [
    "# checking length\n",
    "len(new_shooting)"
   ]
  },
  {
   "cell_type": "code",
   "execution_count": 175,
   "metadata": {
    "collapsed": false
   },
   "outputs": [],
   "source": [
    "# drop the NaN values\n",
    "new_shooting.dropna(inplace = True)"
   ]
  },
  {
   "cell_type": "code",
   "execution_count": 176,
   "metadata": {
    "collapsed": false
   },
   "outputs": [
    {
     "data": {
      "text/plain": [
       "538"
      ]
     },
     "execution_count": 176,
     "metadata": {},
     "output_type": "execute_result"
    }
   ],
   "source": [
    "# checking how much data I have lost\n",
    "len(new_shooting)"
   ]
  },
  {
   "cell_type": "markdown",
   "metadata": {},
   "source": [
    "---"
   ]
  },
  {
   "cell_type": "markdown",
   "metadata": {},
   "source": [
    "### Modeling"
   ]
  },
  {
   "cell_type": "code",
   "execution_count": 208,
   "metadata": {
    "collapsed": false
   },
   "outputs": [],
   "source": [
    "# preprocessing: making Gender Binary\n",
    "new_shooting['Gender'] = 1. * (new_shooting['Gender'] == 'Male')"
   ]
  },
  {
   "cell_type": "code",
   "execution_count": 209,
   "metadata": {
    "collapsed": false
   },
   "outputs": [],
   "source": [
    "# a function that processes the data into 3 classifications\n",
    "def preprocess(data):\n",
    "    if data == \"Yes\":\n",
    "        return 1\n",
    "    elif data == \"No\":\n",
    "        return 0\n",
    "    elif data == \"Unclear\":\n",
    "        return -1"
   ]
  },
  {
   "cell_type": "code",
   "execution_count": 210,
   "metadata": {
    "collapsed": false
   },
   "outputs": [],
   "source": [
    "# applying my function to my dataframe\n",
    "new_shooting['Armed'] = new_shooting['Armed'].apply(preprocess)\n",
    "new_shooting['Priors'] = new_shooting['Priors'].apply(preprocess)\n",
    "new_shooting['Fired'] = new_shooting['Fired'].apply(preprocess)"
   ]
  },
  {
   "cell_type": "code",
   "execution_count": 211,
   "metadata": {
    "collapsed": true
   },
   "outputs": [],
   "source": [
    "# save it as another csv\n",
    "new_shooting.to_csv(\"Data/new_police_cleaned.csv\", encoding='utf-8')"
   ]
  },
  {
   "cell_type": "code",
   "execution_count": 244,
   "metadata": {
    "collapsed": true
   },
   "outputs": [],
   "source": [
    "cleaned_data = pd.read_csv(\"./Data/new_police_cleaned.csv\")"
   ]
  },
  {
   "cell_type": "code",
   "execution_count": 245,
   "metadata": {
    "collapsed": false
   },
   "outputs": [],
   "source": [
    "cleaned_data.drop('Unnamed: 0', axis = 1, inplace = True)"
   ]
  },
  {
   "cell_type": "code",
   "execution_count": 246,
   "metadata": {
    "collapsed": false
   },
   "outputs": [
    {
     "data": {
      "text/html": [
       "<div>\n",
       "<table border=\"1\" class=\"dataframe\">\n",
       "  <thead>\n",
       "    <tr style=\"text-align: right;\">\n",
       "      <th></th>\n",
       "      <th>State</th>\n",
       "      <th>Gender</th>\n",
       "      <th>Age</th>\n",
       "      <th>Race</th>\n",
       "      <th>Armed</th>\n",
       "      <th>Priors</th>\n",
       "      <th>Fired</th>\n",
       "      <th>Objectivity</th>\n",
       "      <th>Polarity</th>\n",
       "    </tr>\n",
       "  </thead>\n",
       "  <tbody>\n",
       "    <tr>\n",
       "      <th>0</th>\n",
       "      <td>Texas</td>\n",
       "      <td>1</td>\n",
       "      <td>34</td>\n",
       "      <td>Black</td>\n",
       "      <td>1</td>\n",
       "      <td>1</td>\n",
       "      <td>-1</td>\n",
       "      <td>0.4</td>\n",
       "      <td>-0.2</td>\n",
       "    </tr>\n",
       "    <tr>\n",
       "      <th>1</th>\n",
       "      <td>Florida</td>\n",
       "      <td>1</td>\n",
       "      <td>27</td>\n",
       "      <td>Latino</td>\n",
       "      <td>1</td>\n",
       "      <td>1</td>\n",
       "      <td>-1</td>\n",
       "      <td>0.0</td>\n",
       "      <td>0.0</td>\n",
       "    </tr>\n",
       "    <tr>\n",
       "      <th>2</th>\n",
       "      <td>South Carolina</td>\n",
       "      <td>1</td>\n",
       "      <td>21</td>\n",
       "      <td>Black</td>\n",
       "      <td>1</td>\n",
       "      <td>-1</td>\n",
       "      <td>-1</td>\n",
       "      <td>0.4</td>\n",
       "      <td>-0.2</td>\n",
       "    </tr>\n",
       "    <tr>\n",
       "      <th>3</th>\n",
       "      <td>North Carolina</td>\n",
       "      <td>1</td>\n",
       "      <td>19</td>\n",
       "      <td>Black</td>\n",
       "      <td>1</td>\n",
       "      <td>-1</td>\n",
       "      <td>-1</td>\n",
       "      <td>0.0</td>\n",
       "      <td>-0.2</td>\n",
       "    </tr>\n",
       "    <tr>\n",
       "      <th>4</th>\n",
       "      <td>Idaho</td>\n",
       "      <td>1</td>\n",
       "      <td>26</td>\n",
       "      <td>White</td>\n",
       "      <td>-1</td>\n",
       "      <td>-1</td>\n",
       "      <td>-1</td>\n",
       "      <td>0.4</td>\n",
       "      <td>-0.2</td>\n",
       "    </tr>\n",
       "  </tbody>\n",
       "</table>\n",
       "</div>"
      ],
      "text/plain": [
       "            State  Gender  Age    Race  Armed  Priors  Fired  Objectivity  \\\n",
       "0           Texas       1   34   Black      1       1     -1          0.4   \n",
       "1         Florida       1   27  Latino      1       1     -1          0.0   \n",
       "2  South Carolina       1   21   Black      1      -1     -1          0.4   \n",
       "3  North Carolina       1   19   Black      1      -1     -1          0.0   \n",
       "4           Idaho       1   26   White     -1      -1     -1          0.4   \n",
       "\n",
       "   Polarity  \n",
       "0      -0.2  \n",
       "1       0.0  \n",
       "2      -0.2  \n",
       "3      -0.2  \n",
       "4      -0.2  "
      ]
     },
     "execution_count": 246,
     "metadata": {},
     "output_type": "execute_result"
    }
   ],
   "source": [
    "cleaned_data.head()"
   ]
  },
  {
   "cell_type": "code",
   "execution_count": 247,
   "metadata": {
    "collapsed": true
   },
   "outputs": [],
   "source": [
    "cleaned_data.dropna(inplace = True)"
   ]
  },
  {
   "cell_type": "code",
   "execution_count": 248,
   "metadata": {
    "collapsed": true
   },
   "outputs": [],
   "source": [
    "cleaned_data_dummy = pd.get_dummies(cleaned_data)"
   ]
  },
  {
   "cell_type": "code",
   "execution_count": 249,
   "metadata": {
    "collapsed": false
   },
   "outputs": [
    {
     "data": {
      "text/html": [
       "<div>\n",
       "<table border=\"1\" class=\"dataframe\">\n",
       "  <thead>\n",
       "    <tr style=\"text-align: right;\">\n",
       "      <th></th>\n",
       "      <th>Gender</th>\n",
       "      <th>Age</th>\n",
       "      <th>Armed</th>\n",
       "      <th>Priors</th>\n",
       "      <th>Fired</th>\n",
       "      <th>Objectivity</th>\n",
       "      <th>Polarity</th>\n",
       "      <th>State_Alabama</th>\n",
       "      <th>State_Alaska</th>\n",
       "      <th>State_Arizona</th>\n",
       "      <th>...</th>\n",
       "      <th>State_West Virginia</th>\n",
       "      <th>State_Wisconsin</th>\n",
       "      <th>State_Wyoming</th>\n",
       "      <th>Race_Asian</th>\n",
       "      <th>Race_Black</th>\n",
       "      <th>Race_Latino</th>\n",
       "      <th>Race_Native American</th>\n",
       "      <th>Race_Other</th>\n",
       "      <th>Race_Unknown</th>\n",
       "      <th>Race_White</th>\n",
       "    </tr>\n",
       "  </thead>\n",
       "  <tbody>\n",
       "    <tr>\n",
       "      <th>0</th>\n",
       "      <td>1</td>\n",
       "      <td>34</td>\n",
       "      <td>1</td>\n",
       "      <td>1</td>\n",
       "      <td>-1</td>\n",
       "      <td>0.4</td>\n",
       "      <td>-0.2</td>\n",
       "      <td>0</td>\n",
       "      <td>0</td>\n",
       "      <td>0</td>\n",
       "      <td>...</td>\n",
       "      <td>0</td>\n",
       "      <td>0</td>\n",
       "      <td>0</td>\n",
       "      <td>0</td>\n",
       "      <td>1</td>\n",
       "      <td>0</td>\n",
       "      <td>0</td>\n",
       "      <td>0</td>\n",
       "      <td>0</td>\n",
       "      <td>0</td>\n",
       "    </tr>\n",
       "    <tr>\n",
       "      <th>1</th>\n",
       "      <td>1</td>\n",
       "      <td>27</td>\n",
       "      <td>1</td>\n",
       "      <td>1</td>\n",
       "      <td>-1</td>\n",
       "      <td>0.0</td>\n",
       "      <td>0.0</td>\n",
       "      <td>0</td>\n",
       "      <td>0</td>\n",
       "      <td>0</td>\n",
       "      <td>...</td>\n",
       "      <td>0</td>\n",
       "      <td>0</td>\n",
       "      <td>0</td>\n",
       "      <td>0</td>\n",
       "      <td>0</td>\n",
       "      <td>1</td>\n",
       "      <td>0</td>\n",
       "      <td>0</td>\n",
       "      <td>0</td>\n",
       "      <td>0</td>\n",
       "    </tr>\n",
       "    <tr>\n",
       "      <th>2</th>\n",
       "      <td>1</td>\n",
       "      <td>21</td>\n",
       "      <td>1</td>\n",
       "      <td>-1</td>\n",
       "      <td>-1</td>\n",
       "      <td>0.4</td>\n",
       "      <td>-0.2</td>\n",
       "      <td>0</td>\n",
       "      <td>0</td>\n",
       "      <td>0</td>\n",
       "      <td>...</td>\n",
       "      <td>0</td>\n",
       "      <td>0</td>\n",
       "      <td>0</td>\n",
       "      <td>0</td>\n",
       "      <td>1</td>\n",
       "      <td>0</td>\n",
       "      <td>0</td>\n",
       "      <td>0</td>\n",
       "      <td>0</td>\n",
       "      <td>0</td>\n",
       "    </tr>\n",
       "    <tr>\n",
       "      <th>3</th>\n",
       "      <td>1</td>\n",
       "      <td>19</td>\n",
       "      <td>1</td>\n",
       "      <td>-1</td>\n",
       "      <td>-1</td>\n",
       "      <td>0.0</td>\n",
       "      <td>-0.2</td>\n",
       "      <td>0</td>\n",
       "      <td>0</td>\n",
       "      <td>0</td>\n",
       "      <td>...</td>\n",
       "      <td>0</td>\n",
       "      <td>0</td>\n",
       "      <td>0</td>\n",
       "      <td>0</td>\n",
       "      <td>1</td>\n",
       "      <td>0</td>\n",
       "      <td>0</td>\n",
       "      <td>0</td>\n",
       "      <td>0</td>\n",
       "      <td>0</td>\n",
       "    </tr>\n",
       "    <tr>\n",
       "      <th>4</th>\n",
       "      <td>1</td>\n",
       "      <td>26</td>\n",
       "      <td>-1</td>\n",
       "      <td>-1</td>\n",
       "      <td>-1</td>\n",
       "      <td>0.4</td>\n",
       "      <td>-0.2</td>\n",
       "      <td>0</td>\n",
       "      <td>0</td>\n",
       "      <td>0</td>\n",
       "      <td>...</td>\n",
       "      <td>0</td>\n",
       "      <td>0</td>\n",
       "      <td>0</td>\n",
       "      <td>0</td>\n",
       "      <td>0</td>\n",
       "      <td>0</td>\n",
       "      <td>0</td>\n",
       "      <td>0</td>\n",
       "      <td>0</td>\n",
       "      <td>1</td>\n",
       "    </tr>\n",
       "  </tbody>\n",
       "</table>\n",
       "<p>5 rows × 65 columns</p>\n",
       "</div>"
      ],
      "text/plain": [
       "   Gender  Age  Armed  Priors  Fired  Objectivity  Polarity  State_Alabama  \\\n",
       "0       1   34      1       1     -1          0.4      -0.2              0   \n",
       "1       1   27      1       1     -1          0.0       0.0              0   \n",
       "2       1   21      1      -1     -1          0.4      -0.2              0   \n",
       "3       1   19      1      -1     -1          0.0      -0.2              0   \n",
       "4       1   26     -1      -1     -1          0.4      -0.2              0   \n",
       "\n",
       "   State_Alaska  State_Arizona     ...      State_West Virginia  \\\n",
       "0             0              0     ...                        0   \n",
       "1             0              0     ...                        0   \n",
       "2             0              0     ...                        0   \n",
       "3             0              0     ...                        0   \n",
       "4             0              0     ...                        0   \n",
       "\n",
       "   State_Wisconsin  State_Wyoming  Race_Asian  Race_Black  Race_Latino  \\\n",
       "0                0              0           0           1            0   \n",
       "1                0              0           0           0            1   \n",
       "2                0              0           0           1            0   \n",
       "3                0              0           0           1            0   \n",
       "4                0              0           0           0            0   \n",
       "\n",
       "   Race_Native American  Race_Other  Race_Unknown  Race_White  \n",
       "0                     0           0             0           0  \n",
       "1                     0           0             0           0  \n",
       "2                     0           0             0           0  \n",
       "3                     0           0             0           0  \n",
       "4                     0           0             0           1  \n",
       "\n",
       "[5 rows x 65 columns]"
      ]
     },
     "execution_count": 249,
     "metadata": {},
     "output_type": "execute_result"
    }
   ],
   "source": [
    "cleaned_data_dummy.head()"
   ]
  },
  {
   "cell_type": "code",
   "execution_count": 250,
   "metadata": {
    "collapsed": false
   },
   "outputs": [],
   "source": [
    "feat_col = list(cleaned_data_dummy.drop('Fired', axis = 1))"
   ]
  },
  {
   "cell_type": "code",
   "execution_count": 251,
   "metadata": {
    "collapsed": true
   },
   "outputs": [],
   "source": [
    "# predictators\n",
    "features = cleaned_data_dummy[feat_col]\n",
    "# predicted\n",
    "label = cleaned_data_dummy['Fired']"
   ]
  },
  {
   "cell_type": "code",
   "execution_count": 252,
   "metadata": {
    "collapsed": true
   },
   "outputs": [],
   "source": [
    "# creating train test split with identified sizes\n",
    "x_train, x_test, y_train, y_test = train_test_split(features, label, train_size = 0.8, test_size = 0.2)"
   ]
  },
  {
   "cell_type": "markdown",
   "metadata": {},
   "source": [
    "###Modeling - Random Forest"
   ]
  },
  {
   "cell_type": "code",
   "execution_count": 253,
   "metadata": {
    "collapsed": true
   },
   "outputs": [],
   "source": [
    "# initialize my RFC\n",
    "RF_model = RandomForestClassifier(n_estimators = 100)"
   ]
  },
  {
   "cell_type": "code",
   "execution_count": 254,
   "metadata": {
    "collapsed": false
   },
   "outputs": [
    {
     "data": {
      "text/plain": [
       "RandomForestClassifier(bootstrap=True, class_weight=None, criterion='gini',\n",
       "            max_depth=None, max_features='auto', max_leaf_nodes=None,\n",
       "            min_samples_leaf=1, min_samples_split=2,\n",
       "            min_weight_fraction_leaf=0.0, n_estimators=100, n_jobs=1,\n",
       "            oob_score=False, random_state=None, verbose=0,\n",
       "            warm_start=False)"
      ]
     },
     "execution_count": 254,
     "metadata": {},
     "output_type": "execute_result"
    }
   ],
   "source": [
    "RF_model.fit(x_train, y_train)"
   ]
  },
  {
   "cell_type": "code",
   "execution_count": 255,
   "metadata": {
    "collapsed": false
   },
   "outputs": [],
   "source": [
    "rf_pred = RF_model.predict(x_test)"
   ]
  },
  {
   "cell_type": "code",
   "execution_count": 256,
   "metadata": {
    "collapsed": false
   },
   "outputs": [
    {
     "data": {
      "text/plain": [
       "0.56481481481481477"
      ]
     },
     "execution_count": 256,
     "metadata": {},
     "output_type": "execute_result"
    }
   ],
   "source": [
    "RF_model.score(x_test, y_test,)"
   ]
  },
  {
   "cell_type": "code",
   "execution_count": 258,
   "metadata": {
    "collapsed": false
   },
   "outputs": [],
   "source": [
    "RF_cm = confusion_matrix(y_test, rf_pred)"
   ]
  },
  {
   "cell_type": "code",
   "execution_count": 262,
   "metadata": {
    "collapsed": false
   },
   "outputs": [
    {
     "data": {
      "text/plain": [
       "0.51956068622735296"
      ]
     },
     "execution_count": 262,
     "metadata": {},
     "output_type": "execute_result"
    }
   ],
   "source": [
    "f1_score(y_test, rf_pred, average = 'weighted')"
   ]
  },
  {
   "cell_type": "code",
   "execution_count": 265,
   "metadata": {
    "collapsed": true
   },
   "outputs": [],
   "source": [
    "# Stoled this from sklearn website at \n",
    "# http://scikit-learn.org/stable/auto_examples/model_selection/plot_confusion_matrix.html\n",
    "\n",
    "def plot_confusion_matrix(cm, title='Confusion matrix', cmap=plt.cm.Blues):\n",
    "    plt.imshow(cm, interpolation='nearest', cmap=cmap)\n",
    "    plt.title(title)\n",
    "    plt.colorbar()\n",
    "    plt.tight_layout()\n",
    "    plt.ylabel('True label')\n",
    "    plt.xlabel('Predicted label')"
   ]
  },
  {
   "cell_type": "code",
   "execution_count": 266,
   "metadata": {
    "collapsed": false
   },
   "outputs": [
    {
     "data": {
      "text/plain": [
       "array([[48,  0, 12],\n",
       "       [ 7,  0,  3],\n",
       "       [25,  0, 13]])"
      ]
     },
     "execution_count": 266,
     "metadata": {},
     "output_type": "execute_result"
    }
   ],
   "source": [
    "RF_cm"
   ]
  },
  {
   "cell_type": "code",
   "execution_count": 267,
   "metadata": {
    "collapsed": false
   },
   "outputs": [
    {
     "data": {
      "image/png": "[encoded data removed]",
      "text/plain": [
       "<matplotlib.figure.Figure at 0x10d256890>"
      ]
     },
     "metadata": {},
     "output_type": "display_data"
    }
   ],
   "source": [
    "plot_confusion_matrix(RF_cm, cmap = plt.cm.Reds)"
   ]
  },
  {
   "cell_type": "markdown",
   "metadata": {},
   "source": [
    "---"
   ]
  },
  {
   "cell_type": "markdown",
   "metadata": {},
   "source": [
    "### Modeling - AdaBoost"
   ]
  },
  {
   "cell_type": "code",
   "execution_count": 496,
   "metadata": {
    "collapsed": true
   },
   "outputs": [],
   "source": [
    "# initialize AdaBoost\n",
    "model_ada = AdaBoostClassifier(n_estimators = 100)"
   ]
  },
  {
   "cell_type": "code",
   "execution_count": 497,
   "metadata": {
    "collapsed": false
   },
   "outputs": [
    {
     "data": {
      "text/plain": [
       "AdaBoostClassifier(algorithm='SAMME.R', base_estimator=None,\n",
       "          learning_rate=1.0, n_estimators=100, random_state=None)"
      ]
     },
     "execution_count": 497,
     "metadata": {},
     "output_type": "execute_result"
    }
   ],
   "source": [
    "model_ada.fit(x_train, y_train)"
   ]
  },
  {
   "cell_type": "code",
   "execution_count": 498,
   "metadata": {
    "collapsed": true
   },
   "outputs": [],
   "source": [
    "ada_pred = model_ada.predict(x_test)"
   ]
  },
  {
   "cell_type": "code",
   "execution_count": 499,
   "metadata": {
    "collapsed": false
   },
   "outputs": [
    {
     "data": {
      "text/plain": [
       "0.58333333333333337"
      ]
     },
     "execution_count": 499,
     "metadata": {},
     "output_type": "execute_result"
    }
   ],
   "source": [
    "model_ada.score(x_test, y_test)"
   ]
  },
  {
   "cell_type": "code",
   "execution_count": 500,
   "metadata": {
    "collapsed": false
   },
   "outputs": [
    {
     "data": {
      "text/plain": [
       "array([ 0.72955975,  0.36363636,  0.13043478])"
      ]
     },
     "execution_count": 500,
     "metadata": {},
     "output_type": "execute_result"
    }
   ],
   "source": [
    "f1_score(y_test, ada_pred, average=None)"
   ]
  },
  {
   "cell_type": "code",
   "execution_count": 501,
   "metadata": {
    "collapsed": false
   },
   "outputs": [],
   "source": [
    "ada_cm = confusion_matrix(y_test, pred)"
   ]
  },
  {
   "cell_type": "code",
   "execution_count": 503,
   "metadata": {
    "collapsed": false
   },
   "outputs": [
    {
     "data": {
      "image/png": "[encoded data removed]",
      "text/plain": [
       "<matplotlib.figure.Figure at 0x11a374090>"
      ]
     },
     "metadata": {},
     "output_type": "display_data"
    }
   ],
   "source": [
    "plot_confusion_matrix(ada_cm, cmap = plt.cm.Dark2)"
   ]
  },
  {
   "cell_type": "markdown",
   "metadata": {},
   "source": [
    "---"
   ]
  },
  {
   "cell_type": "markdown",
   "metadata": {},
   "source": [
    "### Modeling - SVM"
   ]
  },
  {
   "cell_type": "code",
   "execution_count": 505,
   "metadata": {
    "collapsed": true
   },
   "outputs": [],
   "source": [
    "# initialize SVM\n",
    "model_SVM = SVC(kernel='poly')"
   ]
  },
  {
   "cell_type": "code",
   "execution_count": 506,
   "metadata": {
    "collapsed": false
   },
   "outputs": [
    {
     "data": {
      "text/plain": [
       "SVC(C=1.0, cache_size=200, class_weight=None, coef0=0.0, degree=3, gamma=0.0,\n",
       "  kernel='poly', max_iter=-1, probability=False, random_state=None,\n",
       "  shrinking=True, tol=0.001, verbose=False)"
      ]
     },
     "execution_count": 506,
     "metadata": {},
     "output_type": "execute_result"
    }
   ],
   "source": [
    "model_SVM.fit(x_train, y_train)"
   ]
  },
  {
   "cell_type": "code",
   "execution_count": 507,
   "metadata": {
    "collapsed": true
   },
   "outputs": [],
   "source": [
    "SVM_pred = model_SVM.predict(x_test)"
   ]
  },
  {
   "cell_type": "code",
   "execution_count": 508,
   "metadata": {
    "collapsed": false
   },
   "outputs": [
    {
     "data": {
      "text/plain": [
       "0.63888888888888884"
      ]
     },
     "execution_count": 508,
     "metadata": {},
     "output_type": "execute_result"
    }
   ],
   "source": [
    "model_SVM.score(X_test, Y_test)"
   ]
  },
  {
   "cell_type": "code",
   "execution_count": 509,
   "metadata": {
    "collapsed": false
   },
   "outputs": [
    {
     "data": {
      "text/plain": [
       "array([ 0.72189349,  0.        ,  0.        ])"
      ]
     },
     "execution_count": 509,
     "metadata": {},
     "output_type": "execute_result"
    }
   ],
   "source": [
    "f1_score(y_test, SVM_pred, average = None)"
   ]
  },
  {
   "cell_type": "code",
   "execution_count": 510,
   "metadata": {
    "collapsed": false
   },
   "outputs": [],
   "source": [
    "SVM_cm = confusion_matrix(y_test, pred)"
   ]
  },
  {
   "cell_type": "code",
   "execution_count": 512,
   "metadata": {
    "collapsed": false
   },
   "outputs": [
    {
     "data": {
      "image/png": "[encoded data removed]",
      "text/plain": [
       "<matplotlib.figure.Figure at 0x11a4f7290>"
      ]
     },
     "metadata": {},
     "output_type": "display_data"
    }
   ],
   "source": [
    "plot_confusion_matrix(SVM_cm, cmap = plt.cm.coolwarm)"
   ]
  },
  {
   "cell_type": "markdown",
   "metadata": {},
   "source": [
    "### Scaled SVM"
   ]
  },
  {
   "cell_type": "code",
   "execution_count": 513,
   "metadata": {
    "collapsed": true
   },
   "outputs": [],
   "source": [
    "scaled_feature = pps.scale(features)"
   ]
  },
  {
   "cell_type": "code",
   "execution_count": 514,
   "metadata": {
    "collapsed": true
   },
   "outputs": [],
   "source": [
    "X_train, X_test, Y_train, Y_test = train_test_split(scaled_feature, label, train_size = 0.8, test_size = 0.2)"
   ]
  },
  {
   "cell_type": "code",
   "execution_count": 515,
   "metadata": {
    "collapsed": false
   },
   "outputs": [],
   "source": [
    "scaled_model = model_SVM.fit(X_train, Y_train)"
   ]
  },
  {
   "cell_type": "code",
   "execution_count": 516,
   "metadata": {
    "collapsed": true
   },
   "outputs": [],
   "source": [
    "pred_scaled = scaled_model.predict(X_test)"
   ]
  },
  {
   "cell_type": "code",
   "execution_count": 517,
   "metadata": {
    "collapsed": false
   },
   "outputs": [
    {
     "data": {
      "text/plain": [
       "0.62962962962962965"
      ]
     },
     "execution_count": 517,
     "metadata": {},
     "output_type": "execute_result"
    }
   ],
   "source": [
    "scaled_model.score(X_test, Y_test)"
   ]
  },
  {
   "cell_type": "code",
   "execution_count": 518,
   "metadata": {
    "collapsed": false
   },
   "outputs": [
    {
     "data": {
      "text/plain": [
       "array([ 0.75903614,  0.        ,  0.22222222])"
      ]
     },
     "execution_count": 518,
     "metadata": {},
     "output_type": "execute_result"
    }
   ],
   "source": [
    "f1_score(Y_test, pred_scaled, average = None)"
   ]
  },
  {
   "cell_type": "code",
   "execution_count": 519,
   "metadata": {
    "collapsed": false
   },
   "outputs": [],
   "source": [
    "scaled_SVM_cm = confusion_matrix(Y_test, pred_scaled)"
   ]
  },
  {
   "cell_type": "code",
   "execution_count": 521,
   "metadata": {
    "collapsed": false
   },
   "outputs": [
    {
     "data": {
      "image/png": "[encoded data removed]",
      "text/plain": [
       "<matplotlib.figure.Figure at 0x111716a50>"
      ]
     },
     "metadata": {},
     "output_type": "display_data"
    }
   ],
   "source": [
    "plot_confusion_matrix(scaled_SVM_cm, cmap = plt.cm.terrain)"
   ]
  },
  {
   "cell_type": "markdown",
   "metadata": {},
   "source": [
    "---"
   ]
  },
  {
   "cell_type": "markdown",
   "metadata": {},
   "source": [
    "### Alternative Engineering and Modeling"
   ]
  },
  {
   "cell_type": "code",
   "execution_count": 409,
   "metadata": {
    "collapsed": false
   },
   "outputs": [],
   "source": [
    "new_headline = new_shooting.headlines"
   ]
  },
  {
   "cell_type": "code",
   "execution_count": 419,
   "metadata": {
    "collapsed": true
   },
   "outputs": [],
   "source": [
    "Classification = {}\n",
    "Positive = {}\n",
    "Negative = {}\n",
    "for i, item in enumerate(new_headline):\n",
    "    # creating my textblob for sentiment analysis\n",
    "    test = tb(item, analyzer=NBA())\n",
    "    # try except to catch error\n",
    "    try:\n",
    "        # if no error, I store the objectivity and polarity\n",
    "        # values to obj and polarity\n",
    "        Classification[i] = test.sentiment[0]\n",
    "        Positive[i] = test.sentiment[1]\n",
    "        Negative[i] = test.sentiment[2]\n",
    "    # else...\n",
    "    except:\n",
    "        # I look at the indices where my errors occured\n",
    "        print \"error at: \", i"
   ]
  },
  {
   "cell_type": "code",
   "execution_count": 523,
   "metadata": {
    "collapsed": false
   },
   "outputs": [],
   "source": [
    "new_shooting[\"Classification\"] = pd.Series(Classification)\n",
    "new_shooting[\"Positive\"] = pd.Series(Positive)\n",
    "new_shooting[\"Negative\"] = pd.Series(Negative)"
   ]
  },
  {
   "cell_type": "code",
   "execution_count": 532,
   "metadata": {
    "collapsed": false
   },
   "outputs": [
    {
     "data": {
      "text/html": [
       "<div>\n",
       "<table border=\"1\" class=\"dataframe\">\n",
       "  <thead>\n",
       "    <tr style=\"text-align: right;\">\n",
       "      <th></th>\n",
       "      <th>Unnamed: 0</th>\n",
       "      <th>Name</th>\n",
       "      <th>Cause of Death</th>\n",
       "      <th>Date of Death</th>\n",
       "      <th>State</th>\n",
       "      <th>City</th>\n",
       "      <th>Gender</th>\n",
       "      <th>Age</th>\n",
       "      <th>Race</th>\n",
       "      <th>Month of Death</th>\n",
       "      <th>Armed</th>\n",
       "      <th>Priors</th>\n",
       "      <th>Fired</th>\n",
       "      <th>headlines</th>\n",
       "      <th>Objectivity</th>\n",
       "      <th>Polarity</th>\n",
       "      <th>Classification</th>\n",
       "      <th>Positive</th>\n",
       "      <th>Negative</th>\n",
       "    </tr>\n",
       "  </thead>\n",
       "  <tbody>\n",
       "    <tr>\n",
       "      <th>0</th>\n",
       "      <td>0</td>\n",
       "      <td>Aaron Alexis</td>\n",
       "      <td>Shooting</td>\n",
       "      <td>16/09/2013</td>\n",
       "      <td>Texas</td>\n",
       "      <td>Fort Worth, Texas</td>\n",
       "      <td>1</td>\n",
       "      <td>34</td>\n",
       "      <td>Black</td>\n",
       "      <td>September 2013</td>\n",
       "      <td>1</td>\n",
       "      <td>1</td>\n",
       "      <td>-1</td>\n",
       "      <td>Aaron Alexis, 34, is dead gunman in Navy Yard...</td>\n",
       "      <td>0.4</td>\n",
       "      <td>-0.2</td>\n",
       "      <td>neg</td>\n",
       "      <td>0.204408</td>\n",
       "      <td>0.795592</td>\n",
       "    </tr>\n",
       "    <tr>\n",
       "      <th>1</th>\n",
       "      <td>6</td>\n",
       "      <td>Adrian Montesano</td>\n",
       "      <td>Shooting</td>\n",
       "      <td>10/12/2013</td>\n",
       "      <td>Florida</td>\n",
       "      <td>Miami-Dade, Florida</td>\n",
       "      <td>1</td>\n",
       "      <td>27</td>\n",
       "      <td>Latino</td>\n",
       "      <td>December 2013</td>\n",
       "      <td>1</td>\n",
       "      <td>1</td>\n",
       "      <td>-1</td>\n",
       "      <td>FBI agent uses lethal force in N.O. East shooting</td>\n",
       "      <td>0.0</td>\n",
       "      <td>0.0</td>\n",
       "      <td>neg</td>\n",
       "      <td>0.403840</td>\n",
       "      <td>0.596160</td>\n",
       "    </tr>\n",
       "    <tr>\n",
       "      <th>2</th>\n",
       "      <td>8</td>\n",
       "      <td>Ajani Mitchell</td>\n",
       "      <td>Shooting</td>\n",
       "      <td>25/05/2013</td>\n",
       "      <td>South Carolina</td>\n",
       "      <td>Columbia, South Carolina</td>\n",
       "      <td>1</td>\n",
       "      <td>21</td>\n",
       "      <td>Black</td>\n",
       "      <td>May 2013</td>\n",
       "      <td>1</td>\n",
       "      <td>-1</td>\n",
       "      <td>-1</td>\n",
       "      <td>San Jose: Deputies kill knife-wielding woman; ...</td>\n",
       "      <td>0.4</td>\n",
       "      <td>-0.2</td>\n",
       "      <td>neg</td>\n",
       "      <td>0.387235</td>\n",
       "      <td>0.612765</td>\n",
       "    </tr>\n",
       "    <tr>\n",
       "      <th>3</th>\n",
       "      <td>14</td>\n",
       "      <td>Alexander Jamar Marion</td>\n",
       "      <td>Shooting</td>\n",
       "      <td>29/09/2013</td>\n",
       "      <td>North Carolina</td>\n",
       "      <td>Asheville, North Carolina</td>\n",
       "      <td>1</td>\n",
       "      <td>19</td>\n",
       "      <td>Black</td>\n",
       "      <td>September 2013</td>\n",
       "      <td>1</td>\n",
       "      <td>-1</td>\n",
       "      <td>-1</td>\n",
       "      <td>Man shot, killed by police serving warrant in ...</td>\n",
       "      <td>0.0</td>\n",
       "      <td>-0.2</td>\n",
       "      <td>neg</td>\n",
       "      <td>0.198844</td>\n",
       "      <td>0.801156</td>\n",
       "    </tr>\n",
       "    <tr>\n",
       "      <th>4</th>\n",
       "      <td>15</td>\n",
       "      <td>Alexander L. Mandarino</td>\n",
       "      <td>Shooting</td>\n",
       "      <td>12/06/2013</td>\n",
       "      <td>Idaho</td>\n",
       "      <td>Idaho, Idaho</td>\n",
       "      <td>1</td>\n",
       "      <td>26</td>\n",
       "      <td>White</td>\n",
       "      <td>June 2013</td>\n",
       "      <td>-1</td>\n",
       "      <td>-1</td>\n",
       "      <td>-1</td>\n",
       "      <td>Suspect Dead After Deputy-Involved Shooting in...</td>\n",
       "      <td>0.4</td>\n",
       "      <td>-0.2</td>\n",
       "      <td>pos</td>\n",
       "      <td>0.835603</td>\n",
       "      <td>0.164397</td>\n",
       "    </tr>\n",
       "  </tbody>\n",
       "</table>\n",
       "</div>"
      ],
      "text/plain": [
       "   Unnamed: 0                    Name Cause of Death Date of Death  \\\n",
       "0           0            Aaron Alexis       Shooting    16/09/2013   \n",
       "1           6        Adrian Montesano       Shooting    10/12/2013   \n",
       "2           8          Ajani Mitchell       Shooting    25/05/2013   \n",
       "3          14  Alexander Jamar Marion       Shooting    29/09/2013   \n",
       "4          15  Alexander L. Mandarino       Shooting    12/06/2013   \n",
       "\n",
       "            State                       City  Gender  Age    Race  \\\n",
       "0           Texas          Fort Worth, Texas       1   34   Black   \n",
       "1         Florida        Miami-Dade, Florida       1   27  Latino   \n",
       "2  South Carolina   Columbia, South Carolina       1   21   Black   \n",
       "3  North Carolina  Asheville, North Carolina       1   19   Black   \n",
       "4           Idaho               Idaho, Idaho       1   26   White   \n",
       "\n",
       "   Month of Death  Armed  Priors  Fired  \\\n",
       "0  September 2013      1       1     -1   \n",
       "1   December 2013      1       1     -1   \n",
       "2        May 2013      1      -1     -1   \n",
       "3  September 2013      1      -1     -1   \n",
       "4       June 2013     -1      -1     -1   \n",
       "\n",
       "                                           headlines  Objectivity  Polarity  \\\n",
       "0   Aaron Alexis, 34, is dead gunman in Navy Yard...          0.4      -0.2   \n",
       "1  FBI agent uses lethal force in N.O. East shooting          0.0       0.0   \n",
       "2  San Jose: Deputies kill knife-wielding woman; ...          0.4      -0.2   \n",
       "3  Man shot, killed by police serving warrant in ...          0.0      -0.2   \n",
       "4  Suspect Dead After Deputy-Involved Shooting in...          0.4      -0.2   \n",
       "\n",
       "  Classification  Positive  Negative  \n",
       "0            neg  0.204408  0.795592  \n",
       "1            neg  0.403840  0.596160  \n",
       "2            neg  0.387235  0.612765  \n",
       "3            neg  0.198844  0.801156  \n",
       "4            pos  0.835603  0.164397  "
      ]
     },
     "execution_count": 532,
     "metadata": {},
     "output_type": "execute_result"
    }
   ],
   "source": [
    "new_shooting.head()"
   ]
  },
  {
   "cell_type": "code",
   "execution_count": 533,
   "metadata": {
    "collapsed": true
   },
   "outputs": [],
   "source": [
    "new_shooting.dropna(inplace=True)"
   ]
  },
  {
   "cell_type": "code",
   "execution_count": 534,
   "metadata": {
    "collapsed": false
   },
   "outputs": [
    {
     "data": {
      "image/png": "[encoded data removed]",
      "text/plain": [
       "<matplotlib.figure.Figure at 0x118a02f10>"
      ]
     },
     "metadata": {},
     "output_type": "display_data"
    }
   ],
   "source": [
    "sns.jointplot(new_shooting.Positive, new_shooting.Negative);"
   ]
  },
  {
   "cell_type": "code",
   "execution_count": 535,
   "metadata": {
    "collapsed": false
   },
   "outputs": [
    {
     "data": {
      "image/png": "[encoded data removed]",
      "text/plain": [
       "<matplotlib.figure.Figure at 0x11df9e690>"
      ]
     },
     "metadata": {},
     "output_type": "display_data"
    }
   ],
   "source": [
    "new_shooting.Classification.value_counts().plot(kind = \"pie\", \n",
    "                                                title=\"Positive and Negative Counts\", \n",
    "                                                figsize = (7,7));"
   ]
  },
  {
   "cell_type": "code",
   "execution_count": 558,
   "metadata": {
    "collapsed": true
   },
   "outputs": [],
   "source": [
    "features_two = new_shooting[['Gender','Armed','Priors','Objectivity','Polarity','Positive','Negative']]\n",
    "label_two = new_shooting['Fired']"
   ]
  },
  {
   "cell_type": "code",
   "execution_count": 559,
   "metadata": {
    "collapsed": true
   },
   "outputs": [],
   "source": [
    "xtrain, xtest, ytrain, ytest = train_test_split(features_two, label_two, train_size = 0.8, test_size = 0.2)"
   ]
  },
  {
   "cell_type": "markdown",
   "metadata": {},
   "source": [
    "### Random Forest - Take Two\n",
    "---"
   ]
  },
  {
   "cell_type": "code",
   "execution_count": 560,
   "metadata": {
    "collapsed": true
   },
   "outputs": [],
   "source": [
    "RF_model_two = RandomForestClassifier(n_estimators=100)"
   ]
  },
  {
   "cell_type": "code",
   "execution_count": 561,
   "metadata": {
    "collapsed": false
   },
   "outputs": [
    {
     "data": {
      "text/plain": [
       "RandomForestClassifier(bootstrap=True, class_weight=None, criterion='gini',\n",
       "            max_depth=None, max_features='auto', max_leaf_nodes=None,\n",
       "            min_samples_leaf=1, min_samples_split=2,\n",
       "            min_weight_fraction_leaf=0.0, n_estimators=100, n_jobs=1,\n",
       "            oob_score=False, random_state=None, verbose=0,\n",
       "            warm_start=False)"
      ]
     },
     "execution_count": 561,
     "metadata": {},
     "output_type": "execute_result"
    }
   ],
   "source": [
    "RF_model_two.fit(xtrain, ytrain)"
   ]
  },
  {
   "cell_type": "code",
   "execution_count": 562,
   "metadata": {
    "collapsed": true
   },
   "outputs": [],
   "source": [
    "pred_class = RF_model_two.predict(xtest)"
   ]
  },
  {
   "cell_type": "code",
   "execution_count": 563,
   "metadata": {
    "collapsed": false
   },
   "outputs": [
    {
     "data": {
      "text/plain": [
       "0.62745098039215685"
      ]
     },
     "execution_count": 563,
     "metadata": {},
     "output_type": "execute_result"
    }
   ],
   "source": [
    "RF_model_two.score(xtest, ytest)"
   ]
  },
  {
   "cell_type": "code",
   "execution_count": 564,
   "metadata": {
    "collapsed": false
   },
   "outputs": [
    {
     "data": {
      "text/plain": [
       "array([ 0.73972603,  0.25      ,  0.36      ])"
      ]
     },
     "execution_count": 564,
     "metadata": {},
     "output_type": "execute_result"
    }
   ],
   "source": [
    "f1_score(ytest, pred_class, average=None)"
   ]
  },
  {
   "cell_type": "code",
   "execution_count": 570,
   "metadata": {
    "collapsed": false
   },
   "outputs": [
    {
     "data": {
      "text/plain": [
       "array([[54,  1, 10],\n",
       "       [ 5,  1,  0],\n",
       "       [22,  0,  9]])"
      ]
     },
     "execution_count": 570,
     "metadata": {},
     "output_type": "execute_result"
    }
   ],
   "source": [
    "RF_cm_two = confusion_matrix(ytest, pred_class)\n",
    "RF_cm_two"
   ]
  },
  {
   "cell_type": "code",
   "execution_count": 569,
   "metadata": {
    "collapsed": false
   },
   "outputs": [
    {
     "data": {
      "image/png": "[encoded data removed]",
      "text/plain": [
       "<matplotlib.figure.Figure at 0x11d07ea90>"
      ]
     },
     "metadata": {},
     "output_type": "display_data"
    }
   ],
   "source": [
    "plot_confusion_matrix(RF_cm_two, cmap = plt.cm.PuBuGn)"
   ]
  },
  {
   "cell_type": "markdown",
   "metadata": {},
   "source": [
    "### AdaBoost - Take Two\n",
    "---"
   ]
  },
  {
   "cell_type": "code",
   "execution_count": 571,
   "metadata": {
    "collapsed": true
   },
   "outputs": [],
   "source": [
    "ada_model_two = AdaBoostClassifier(n_estimators=100)"
   ]
  },
  {
   "cell_type": "code",
   "execution_count": 572,
   "metadata": {
    "collapsed": false
   },
   "outputs": [
    {
     "data": {
      "text/plain": [
       "AdaBoostClassifier(algorithm='SAMME.R', base_estimator=None,\n",
       "          learning_rate=1.0, n_estimators=100, random_state=None)"
      ]
     },
     "execution_count": 572,
     "metadata": {},
     "output_type": "execute_result"
    }
   ],
   "source": [
    "ada_model_two.fit(xtrain, ytrain)"
   ]
  },
  {
   "cell_type": "code",
   "execution_count": 573,
   "metadata": {
    "collapsed": true
   },
   "outputs": [],
   "source": [
    "ada_pred_two = ada_model_two.predict(xtest)"
   ]
  },
  {
   "cell_type": "code",
   "execution_count": 574,
   "metadata": {
    "collapsed": false
   },
   "outputs": [
    {
     "data": {
      "text/plain": [
       "0.60784313725490191"
      ]
     },
     "execution_count": 574,
     "metadata": {},
     "output_type": "execute_result"
    }
   ],
   "source": [
    "ada_model_two.score(xtest, ytest)"
   ]
  },
  {
   "cell_type": "code",
   "execution_count": 575,
   "metadata": {
    "collapsed": false
   },
   "outputs": [
    {
     "data": {
      "text/plain": [
       "array([ 0.73103448,  0.22222222,  0.32      ])"
      ]
     },
     "execution_count": 575,
     "metadata": {},
     "output_type": "execute_result"
    }
   ],
   "source": [
    "f1_score(ytest, ada_pred_two, average=None)"
   ]
  },
  {
   "cell_type": "code",
   "execution_count": 576,
   "metadata": {
    "collapsed": false
   },
   "outputs": [
    {
     "data": {
      "text/plain": [
       "array([[53,  2, 10],\n",
       "       [ 4,  1,  1],\n",
       "       [23,  0,  8]])"
      ]
     },
     "execution_count": 576,
     "metadata": {},
     "output_type": "execute_result"
    }
   ],
   "source": [
    "ada_confused = confusion_matrix(ytest, ada_pred_two)\n",
    "ada_confused"
   ]
  },
  {
   "cell_type": "code",
   "execution_count": 577,
   "metadata": {
    "collapsed": false
   },
   "outputs": [
    {
     "data": {
      "image/png": "[encoded data removed]",
      "text/plain": [
       "<matplotlib.figure.Figure at 0x1174b1dd0>"
      ]
     },
     "metadata": {},
     "output_type": "display_data"
    }
   ],
   "source": [
    "plot_confusion_matrix(ada_confused, cmap = plt.cm.Pastel2_r)"
   ]
  },
  {
   "cell_type": "markdown",
   "metadata": {},
   "source": [
    "### SVM - Take Two\n",
    "---"
   ]
  },
  {
   "cell_type": "code",
   "execution_count": 583,
   "metadata": {
    "collapsed": true
   },
   "outputs": [],
   "source": [
    "SVM_two = SVC(kernel='poly', C = 0.1)"
   ]
  },
  {
   "cell_type": "code",
   "execution_count": 584,
   "metadata": {
    "collapsed": false
   },
   "outputs": [
    {
     "data": {
      "text/plain": [
       "SVC(C=0.1, cache_size=200, class_weight=None, coef0=0.0, degree=3, gamma=0.0,\n",
       "  kernel='poly', max_iter=-1, probability=False, random_state=None,\n",
       "  shrinking=True, tol=0.001, verbose=False)"
      ]
     },
     "execution_count": 584,
     "metadata": {},
     "output_type": "execute_result"
    }
   ],
   "source": [
    "SVM_two.fit(xtrain, ytrain)"
   ]
  },
  {
   "cell_type": "code",
   "execution_count": 585,
   "metadata": {
    "collapsed": true
   },
   "outputs": [],
   "source": [
    "svm_pred_two = SVM_two.predict(xtest)"
   ]
  },
  {
   "cell_type": "code",
   "execution_count": 586,
   "metadata": {
    "collapsed": false
   },
   "outputs": [
    {
     "data": {
      "text/plain": [
       "0.63725490196078427"
      ]
     },
     "execution_count": 586,
     "metadata": {},
     "output_type": "execute_result"
    }
   ],
   "source": [
    "SVM_two.score(xtest, ytest)"
   ]
  },
  {
   "cell_type": "code",
   "execution_count": 587,
   "metadata": {
    "collapsed": false
   },
   "outputs": [
    {
     "data": {
      "text/plain": [
       "array([ 0.77844311,  0.        ,  0.        ])"
      ]
     },
     "execution_count": 587,
     "metadata": {},
     "output_type": "execute_result"
    }
   ],
   "source": [
    "f1_score(ytest, svm_pred_two, average=None)"
   ]
  },
  {
   "cell_type": "code",
   "execution_count": 588,
   "metadata": {
    "collapsed": false
   },
   "outputs": [
    {
     "data": {
      "text/plain": [
       "array([[65,  0,  0],\n",
       "       [ 6,  0,  0],\n",
       "       [31,  0,  0]])"
      ]
     },
     "execution_count": 588,
     "metadata": {},
     "output_type": "execute_result"
    }
   ],
   "source": [
    "svm_two_confused = confusion_matrix(ytest, svm_pred_two)\n",
    "svm_two_confused"
   ]
  },
  {
   "cell_type": "code",
   "execution_count": 589,
   "metadata": {
    "collapsed": false
   },
   "outputs": [
    {
     "data": {
      "image/png": "[encoded data removed]",
      "text/plain": [
       "<matplotlib.figure.Figure at 0x123e53490>"
      ]
     },
     "metadata": {},
     "output_type": "display_data"
    }
   ],
   "source": [
    "plot_confusion_matrix(svm_two_confused, cmap = plt.cm.RdYlBu)"
   ]
  },
  {
   "cell_type": "markdown",
   "metadata": {},
   "source": [
    "### SVM Scaled - Take Two"
   ]
  },
  {
   "cell_type": "code",
   "execution_count": 590,
   "metadata": {
    "collapsed": true
   },
   "outputs": [],
   "source": [
    "new_feature_two = pps.scale(features_two)"
   ]
  },
  {
   "cell_type": "code",
   "execution_count": 591,
   "metadata": {
    "collapsed": true
   },
   "outputs": [],
   "source": [
    "XTRAIN, XTEST, YTRAIN, YTEST = train_test_split(new_feature_two, label_two, train_size = 0.8, test_size = 0.2)"
   ]
  },
  {
   "cell_type": "code",
   "execution_count": 592,
   "metadata": {
    "collapsed": true
   },
   "outputs": [],
   "source": [
    "new_svm = SVC(kernel = 'poly')"
   ]
  },
  {
   "cell_type": "code",
   "execution_count": 593,
   "metadata": {
    "collapsed": false
   },
   "outputs": [
    {
     "data": {
      "text/plain": [
       "SVC(C=1.0, cache_size=200, class_weight=None, coef0=0.0, degree=3, gamma=0.0,\n",
       "  kernel='poly', max_iter=-1, probability=False, random_state=None,\n",
       "  shrinking=True, tol=0.001, verbose=False)"
      ]
     },
     "execution_count": 593,
     "metadata": {},
     "output_type": "execute_result"
    }
   ],
   "source": [
    "new_svm.fit(XTRAIN, YTRAIN)"
   ]
  },
  {
   "cell_type": "code",
   "execution_count": 594,
   "metadata": {
    "collapsed": true
   },
   "outputs": [],
   "source": [
    "new_svm_pred = new_svm.predict(XTEST)"
   ]
  },
  {
   "cell_type": "code",
   "execution_count": 595,
   "metadata": {
    "collapsed": false
   },
   "outputs": [
    {
     "data": {
      "text/plain": [
       "0.61764705882352944"
      ]
     },
     "execution_count": 595,
     "metadata": {},
     "output_type": "execute_result"
    }
   ],
   "source": [
    "new_svm.score(XTEST, YTEST)"
   ]
  },
  {
   "cell_type": "code",
   "execution_count": 597,
   "metadata": {
    "collapsed": false
   },
   "outputs": [
    {
     "data": {
      "text/plain": [
       "array([ 0.75471698,  0.        ,  0.16216216])"
      ]
     },
     "execution_count": 597,
     "metadata": {},
     "output_type": "execute_result"
    }
   ],
   "source": [
    "f1_score(YTEST, new_svm_pred, average=None)"
   ]
  },
  {
   "cell_type": "code",
   "execution_count": 598,
   "metadata": {
    "collapsed": false
   },
   "outputs": [
    {
     "data": {
      "text/plain": [
       "array([[60,  1,  1],\n",
       "       [ 7,  0,  0],\n",
       "       [30,  0,  3]])"
      ]
     },
     "execution_count": 598,
     "metadata": {},
     "output_type": "execute_result"
    }
   ],
   "source": [
    "new_svm_confused = confusion_matrix(YTEST, new_svm_pred)\n",
    "new_svm_confused"
   ]
  },
  {
   "cell_type": "code",
   "execution_count": 599,
   "metadata": {
    "collapsed": false
   },
   "outputs": [
    {
     "data": {
      "image/png": "[encoded data removed]",
      "text/plain": [
       "<matplotlib.figure.Figure at 0x1193da850>"
      ]
     },
     "metadata": {},
     "output_type": "display_data"
    }
   ],
   "source": [
    "plot_confusion_matrix(new_svm_confused, cmap = plt.cm.PuOr)"
   ]
  },
  {
   "cell_type": "markdown",
   "metadata": {},
   "source": [
    "### If I had more time.....\n",
    "---\n",
    "#####If I had more time, I would:\n",
    "1. Optimize my webscrapper so I don't lose as much data\n",
    "2. Incorporate POS tagging to possibly improve my models\n",
    "3. Create more pretty graphs\n",
    "4. Figure out how to include States and Race as part of the model\n",
    "5. Instead of doing headlines, I wanted to work with contents"
   ]
  },
  {
   "cell_type": "code",
   "execution_count": null,
   "metadata": {
    "collapsed": true
   },
   "outputs": [],
   "source": []
  }
 ],
 "metadata": {
  "kernelspec": {
   "display_name": "Python 2",
   "language": "python",
   "name": "python2"
  },
  "language_info": {
   "codemirror_mode": {
    "name": "ipython",
    "version": 2
   },
   "file_extension": ".py",
   "mimetype": "text/x-python",
   "name": "python",
   "nbconvert_exporter": "python",
   "pygments_lexer": "ipython2",
   "version": "2.7.11"
  }
 },
 "nbformat": 4,
 "nbformat_minor": 0
}
